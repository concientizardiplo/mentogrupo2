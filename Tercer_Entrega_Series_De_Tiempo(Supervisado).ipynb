{
  "cells": [
    {
      "cell_type": "code",
      "execution_count": null,
      "metadata": {
        "id": "388RK8fYVh-p"
      },
      "outputs": [],
      "source": [
        "!pip install pyyaml==5.4.1\n",
        "!pip install darts\n",
        "!pip install -U matplotlib"
      ],
      "id": "388RK8fYVh-p"
    },
    {
      "cell_type": "code",
      "execution_count": null,
      "metadata": {
        "id": "55d49daf-0e0e-4005-97aa-95ad574b2f0d"
      },
      "outputs": [],
      "source": [
        "import matplotlib.pyplot as plt\n",
        "import numpy as np\n",
        "import pandas as pd\n",
        "import matplotlib.dates as mdates\n",
        "from datetime import datetime, timedelta, date\n",
        "\n",
        "import seaborn as sns\n",
        "sns.set_context('talk')\n",
        "%matplotlib inline\n",
        "\n",
        "#Usaremos la libreria DARTS\n",
        "\n",
        "from darts import TimeSeries\n",
        "from darts.utils.utils import SeasonalityMode\n",
        "from darts.utils.statistics import check_seasonality\n",
        "from darts.metrics import mape, mase\n",
        "from darts.models import AutoARIMA, ExponentialSmoothing, Prophet, Theta, LinearRegressionModel"
      ],
      "id": "55d49daf-0e0e-4005-97aa-95ad574b2f0d"
    },
    {
      "cell_type": "code",
      "execution_count": null,
      "metadata": {
        "id": "0d77924b-514f-4cbe-9d5f-e0447594ab92"
      },
      "outputs": [],
      "source": [
        "sns.set_context(\"notebook\", rc={\"grid.linewidth\": 0.6, \"lines.linewidth\": 1})\n",
        "sns.set_style(\"whitegrid\")\n",
        "sns.set_palette(\"Accent_r\")"
      ],
      "id": "0d77924b-514f-4cbe-9d5f-e0447594ab92"
    },
    {
      "cell_type": "markdown",
      "metadata": {
        "id": "e9c45c60-97be-4d04-909d-a84185681306"
      },
      "source": [
        "# Combinación de dataset de ConcientizAR y SMN"
      ],
      "id": "e9c45c60-97be-4d04-909d-a84185681306"
    },
    {
      "cell_type": "markdown",
      "metadata": {
        "id": "31b5b638-1eb7-45e0-ba66-aca705f84f97"
      },
      "source": [
        "En esta notebook vamos a intentar unir los datasets con los datos del medidor (datos anuales a los cuales hemos tenido que eliminar columnas que no usaremos, con el objeto de reducir el tamaño del mismo) junto con la información histórica del clima obtenidos del Servicio Meteorológico Nacional que cuenta con registros por cada hora en punto.  \n",
        "  \n",
        "La única manera de realizar esta combinación es mediante el dato de fecha y hora presente en ambos datasets, aunque no vaya a haber una coincidencia exacta para tales registros.  \n",
        "  \n",
        "Por lo tanto seguiremos la siguiente estrategia:  \n",
        " 1. Unir por el valor de fecha y hora más próximo. Es decir, dado que el SMN provee datos a la hora en punto, deberemos buscar el registro más cercano a esa hora en el otro dataset y asignar ahí la información del clima.  \n",
        " 2. Rellenar todos los registros intermedios con una interpolación entre los valores de una hora y la siguiente.  \n",
        "   "
      ],
      "id": "31b5b638-1eb7-45e0-ba66-aca705f84f97"
    },
    {
      "cell_type": "code",
      "execution_count": null,
      "metadata": {
        "id": "db43bfaf-9833-47d3-aac5-bf9aaf89ac09"
      },
      "outputs": [],
      "source": [
        "# Cargamos los datasets\n",
        "#URL = 'https://drive.google.com/file/d/1FOQmYdo3aMLEv6FTxsBMiRYGneuc8cXS/view?usp=sharing'\n",
        "URL = 'https://drive.google.com/file/d/1_8CzOYESqy1D3IoWZO9VyTLsJ51OLJA-/view?usp=sharing'\n",
        "path = 'https://drive.google.com/uc?export=download&id='+URL.split('/')[-2]\n",
        "toma_df = pd.read_csv(path)\n",
        "\n",
        "#URL = 'https://drive.google.com/file/d/1Z7-vfbV8jjYl5ARZvLXg5ptAEOjzajyr/view?usp=sharing'\n",
        "URL = 'https://drive.google.com/file/d/1Uu0AzBpjgT0L45btRoznMOlkK0O-1rEM/view?usp=sharing'\n",
        "path = 'https://drive.google.com/uc?export=download&id='+URL.split('/')[-2]\n",
        "clima_df = pd.read_csv(path)\n",
        "#toma_df = pd.read_csv('./data/tomaselli_2020_10_v1.csv')\n",
        "#clima_df = pd.read_csv('./data/smn_20201030_a_20201130.csv')"
      ],
      "id": "db43bfaf-9833-47d3-aac5-bf9aaf89ac09"
    },
    {
      "cell_type": "code",
      "execution_count": null,
      "metadata": {
        "id": "3oEkDsdSbMcS"
      },
      "outputs": [],
      "source": [
        "# Creamos una columna con el mismo nombre en cada dataset y lo ordenamos\n",
        "toma_df['FECHA_HORA'] = pd.to_datetime(toma_df.createdAt).dt.tz_localize(None)\n",
        "clima_df['FECHA_HORA'] = pd.to_datetime(clima_df.FECHA_HORA).dt.tz_localize(None)\n",
        "toma_df.sort_values('FECHA_HORA', inplace=True)\n",
        "clima_df.sort_values('FECHA_HORA', inplace=True)"
      ],
      "id": "3oEkDsdSbMcS"
    },
    {
      "cell_type": "markdown",
      "metadata": {
        "id": "pP8qBwq0SOmF"
      },
      "source": [
        "#Dataset CONCIENTIZAR"
      ],
      "id": "pP8qBwq0SOmF"
    },
    {
      "cell_type": "code",
      "execution_count": null,
      "metadata": {
        "colab": {
          "base_uri": "https://localhost:8080/"
        },
        "id": "641b1056-e511-48f8-af4e-b8567c070c43",
        "outputId": "de4f8ca9-2c78-4d39-d3be-ef9cab5ec100"
      },
      "outputs": [
        {
          "output_type": "execute_result",
          "data": {
            "text/plain": [
              "(1382426, 5)"
            ]
          },
          "metadata": {},
          "execution_count": 6
        }
      ],
      "source": [
        "toma_df.shape"
      ],
      "id": "641b1056-e511-48f8-af4e-b8567c070c43"
    },
    {
      "cell_type": "code",
      "execution_count": null,
      "metadata": {
        "colab": {
          "base_uri": "https://localhost:8080/"
        },
        "id": "UjgOmz5Tra1m",
        "outputId": "fe78b2a0-46a4-4e02-b499-3ea354934940"
      },
      "outputs": [
        {
          "output_type": "execute_result",
          "data": {
            "text/plain": [
              "Index(['Active_Energy_Delivered', 'Power_Factor_Total', 'Temperature',\n",
              "       'createdAt', 'FECHA_HORA'],\n",
              "      dtype='object')"
            ]
          },
          "metadata": {},
          "execution_count": 7
        }
      ],
      "source": [
        "toma_df.columns"
      ],
      "id": "UjgOmz5Tra1m"
    },
    {
      "cell_type": "code",
      "execution_count": null,
      "metadata": {
        "colab": {
          "base_uri": "https://localhost:8080/",
          "height": 206
        },
        "id": "gDsgfnvJypyu",
        "outputId": "ef2bee32-65f7-4775-e4c2-57825c93b183"
      },
      "outputs": [
        {
          "output_type": "execute_result",
          "data": {
            "text/plain": [
              "   Active_Energy_Delivered  Power_Factor_Total  Temperature  \\\n",
              "0                119489.99                0.97        46.16   \n",
              "1                119490.03                0.97        46.16   \n",
              "2                119490.05                0.96        46.46   \n",
              "3                119490.05                0.96        46.46   \n",
              "4                119490.08                0.96        47.08   \n",
              "\n",
              "                  createdAt              FECHA_HORA  \n",
              "0  2021-01-01T00:00:09.967Z 2021-01-01 00:00:09.967  \n",
              "1  2021-01-01T00:00:22.937Z 2021-01-01 00:00:22.937  \n",
              "2  2021-01-01T00:00:30.739Z 2021-01-01 00:00:30.739  \n",
              "3  2021-01-01T00:00:45.201Z 2021-01-01 00:00:45.201  \n",
              "4  2021-01-01T00:00:55.601Z 2021-01-01 00:00:55.601  "
            ],
            "text/html": [
              "\n",
              "  <div id=\"df-fe805c5c-5cb2-4919-af7f-e20a21a8247e\">\n",
              "    <div class=\"colab-df-container\">\n",
              "      <div>\n",
              "<style scoped>\n",
              "    .dataframe tbody tr th:only-of-type {\n",
              "        vertical-align: middle;\n",
              "    }\n",
              "\n",
              "    .dataframe tbody tr th {\n",
              "        vertical-align: top;\n",
              "    }\n",
              "\n",
              "    .dataframe thead th {\n",
              "        text-align: right;\n",
              "    }\n",
              "</style>\n",
              "<table border=\"1\" class=\"dataframe\">\n",
              "  <thead>\n",
              "    <tr style=\"text-align: right;\">\n",
              "      <th></th>\n",
              "      <th>Active_Energy_Delivered</th>\n",
              "      <th>Power_Factor_Total</th>\n",
              "      <th>Temperature</th>\n",
              "      <th>createdAt</th>\n",
              "      <th>FECHA_HORA</th>\n",
              "    </tr>\n",
              "  </thead>\n",
              "  <tbody>\n",
              "    <tr>\n",
              "      <th>0</th>\n",
              "      <td>119489.99</td>\n",
              "      <td>0.97</td>\n",
              "      <td>46.16</td>\n",
              "      <td>2021-01-01T00:00:09.967Z</td>\n",
              "      <td>2021-01-01 00:00:09.967</td>\n",
              "    </tr>\n",
              "    <tr>\n",
              "      <th>1</th>\n",
              "      <td>119490.03</td>\n",
              "      <td>0.97</td>\n",
              "      <td>46.16</td>\n",
              "      <td>2021-01-01T00:00:22.937Z</td>\n",
              "      <td>2021-01-01 00:00:22.937</td>\n",
              "    </tr>\n",
              "    <tr>\n",
              "      <th>2</th>\n",
              "      <td>119490.05</td>\n",
              "      <td>0.96</td>\n",
              "      <td>46.46</td>\n",
              "      <td>2021-01-01T00:00:30.739Z</td>\n",
              "      <td>2021-01-01 00:00:30.739</td>\n",
              "    </tr>\n",
              "    <tr>\n",
              "      <th>3</th>\n",
              "      <td>119490.05</td>\n",
              "      <td>0.96</td>\n",
              "      <td>46.46</td>\n",
              "      <td>2021-01-01T00:00:45.201Z</td>\n",
              "      <td>2021-01-01 00:00:45.201</td>\n",
              "    </tr>\n",
              "    <tr>\n",
              "      <th>4</th>\n",
              "      <td>119490.08</td>\n",
              "      <td>0.96</td>\n",
              "      <td>47.08</td>\n",
              "      <td>2021-01-01T00:00:55.601Z</td>\n",
              "      <td>2021-01-01 00:00:55.601</td>\n",
              "    </tr>\n",
              "  </tbody>\n",
              "</table>\n",
              "</div>\n",
              "      <button class=\"colab-df-convert\" onclick=\"convertToInteractive('df-fe805c5c-5cb2-4919-af7f-e20a21a8247e')\"\n",
              "              title=\"Convert this dataframe to an interactive table.\"\n",
              "              style=\"display:none;\">\n",
              "        \n",
              "  <svg xmlns=\"http://www.w3.org/2000/svg\" height=\"24px\"viewBox=\"0 0 24 24\"\n",
              "       width=\"24px\">\n",
              "    <path d=\"M0 0h24v24H0V0z\" fill=\"none\"/>\n",
              "    <path d=\"M18.56 5.44l.94 2.06.94-2.06 2.06-.94-2.06-.94-.94-2.06-.94 2.06-2.06.94zm-11 1L8.5 8.5l.94-2.06 2.06-.94-2.06-.94L8.5 2.5l-.94 2.06-2.06.94zm10 10l.94 2.06.94-2.06 2.06-.94-2.06-.94-.94-2.06-.94 2.06-2.06.94z\"/><path d=\"M17.41 7.96l-1.37-1.37c-.4-.4-.92-.59-1.43-.59-.52 0-1.04.2-1.43.59L10.3 9.45l-7.72 7.72c-.78.78-.78 2.05 0 2.83L4 21.41c.39.39.9.59 1.41.59.51 0 1.02-.2 1.41-.59l7.78-7.78 2.81-2.81c.8-.78.8-2.07 0-2.86zM5.41 20L4 18.59l7.72-7.72 1.47 1.35L5.41 20z\"/>\n",
              "  </svg>\n",
              "      </button>\n",
              "      \n",
              "  <style>\n",
              "    .colab-df-container {\n",
              "      display:flex;\n",
              "      flex-wrap:wrap;\n",
              "      gap: 12px;\n",
              "    }\n",
              "\n",
              "    .colab-df-convert {\n",
              "      background-color: #E8F0FE;\n",
              "      border: none;\n",
              "      border-radius: 50%;\n",
              "      cursor: pointer;\n",
              "      display: none;\n",
              "      fill: #1967D2;\n",
              "      height: 32px;\n",
              "      padding: 0 0 0 0;\n",
              "      width: 32px;\n",
              "    }\n",
              "\n",
              "    .colab-df-convert:hover {\n",
              "      background-color: #E2EBFA;\n",
              "      box-shadow: 0px 1px 2px rgba(60, 64, 67, 0.3), 0px 1px 3px 1px rgba(60, 64, 67, 0.15);\n",
              "      fill: #174EA6;\n",
              "    }\n",
              "\n",
              "    [theme=dark] .colab-df-convert {\n",
              "      background-color: #3B4455;\n",
              "      fill: #D2E3FC;\n",
              "    }\n",
              "\n",
              "    [theme=dark] .colab-df-convert:hover {\n",
              "      background-color: #434B5C;\n",
              "      box-shadow: 0px 1px 3px 1px rgba(0, 0, 0, 0.15);\n",
              "      filter: drop-shadow(0px 1px 2px rgba(0, 0, 0, 0.3));\n",
              "      fill: #FFFFFF;\n",
              "    }\n",
              "  </style>\n",
              "\n",
              "      <script>\n",
              "        const buttonEl =\n",
              "          document.querySelector('#df-fe805c5c-5cb2-4919-af7f-e20a21a8247e button.colab-df-convert');\n",
              "        buttonEl.style.display =\n",
              "          google.colab.kernel.accessAllowed ? 'block' : 'none';\n",
              "\n",
              "        async function convertToInteractive(key) {\n",
              "          const element = document.querySelector('#df-fe805c5c-5cb2-4919-af7f-e20a21a8247e');\n",
              "          const dataTable =\n",
              "            await google.colab.kernel.invokeFunction('convertToInteractive',\n",
              "                                                     [key], {});\n",
              "          if (!dataTable) return;\n",
              "\n",
              "          const docLinkHtml = 'Like what you see? Visit the ' +\n",
              "            '<a target=\"_blank\" href=https://colab.research.google.com/notebooks/data_table.ipynb>data table notebook</a>'\n",
              "            + ' to learn more about interactive tables.';\n",
              "          element.innerHTML = '';\n",
              "          dataTable['output_type'] = 'display_data';\n",
              "          await google.colab.output.renderOutput(dataTable, element);\n",
              "          const docLink = document.createElement('div');\n",
              "          docLink.innerHTML = docLinkHtml;\n",
              "          element.appendChild(docLink);\n",
              "        }\n",
              "      </script>\n",
              "    </div>\n",
              "  </div>\n",
              "  "
            ]
          },
          "metadata": {},
          "execution_count": 8
        }
      ],
      "source": [
        "toma_df[:5]"
      ],
      "id": "gDsgfnvJypyu"
    },
    {
      "cell_type": "markdown",
      "metadata": {
        "id": "v5ImL1Q3b_4U"
      },
      "source": [
        "Verificamos  valores 0 en Active_Energy_Delivered, Power_Factor_Total y Temperature"
      ],
      "id": "v5ImL1Q3b_4U"
    },
    {
      "cell_type": "code",
      "execution_count": null,
      "metadata": {
        "colab": {
          "base_uri": "https://localhost:8080/"
        },
        "id": "2MTPMeB7Tf2g",
        "outputId": "931744eb-9a6e-438d-a783-334e9da293d0"
      },
      "outputs": [
        {
          "output_type": "stream",
          "name": "stdout",
          "text": [
            "Cantidad de CEROS en columna \"Active_Energy_Delivered\" :  566\n",
            "Cantidad de CEROS en columna \"Power_Factor_Total\" :  570\n",
            "Cantidad de CEROS en columna \"Temperature\" :  563\n"
          ]
        }
      ],
      "source": [
        "print('Cantidad de CEROS en columna \"Active_Energy_Delivered\" : ', (toma_df['Active_Energy_Delivered'] == 0).sum())\n",
        "print('Cantidad de CEROS en columna \"Power_Factor_Total\" : ', (toma_df['Power_Factor_Total'] == 0).sum())\n",
        "print('Cantidad de CEROS en columna \"Temperature\" : ', (toma_df['Temperature'] == 0).sum())"
      ],
      "id": "2MTPMeB7Tf2g"
    },
    {
      "cell_type": "markdown",
      "metadata": {
        "id": "2e7DjP9uryio"
      },
      "source": [
        "Borramos registros con 0 en algunas de las 3 columnas ya que son valores incorrectos"
      ],
      "id": "2e7DjP9uryio"
    },
    {
      "cell_type": "code",
      "execution_count": null,
      "metadata": {
        "id": "pVZ1mGzUVDr4"
      },
      "outputs": [],
      "source": [
        "columns = ['Active_Energy_Delivered', 'Power_Factor_Total', 'Temperature']\n",
        "toma_df = toma_df.replace(0, np.nan).dropna(axis=0, how='any', subset=columns)\n",
        "\n"
      ],
      "id": "pVZ1mGzUVDr4"
    },
    {
      "cell_type": "code",
      "execution_count": null,
      "metadata": {
        "colab": {
          "base_uri": "https://localhost:8080/"
        },
        "id": "-bJq4jM9WpbF",
        "outputId": "470bd6b1-9695-4f49-fd73-75fa2966a18f"
      },
      "outputs": [
        {
          "output_type": "stream",
          "name": "stdout",
          "text": [
            "Cantidad de CEROS en columna \"Active_Energy_Delivered\" :  0\n",
            "Cantidad de CEROS en columna \"Power_Factor_Total\" :  0\n",
            "Cantidad de CEROS en columna \"Temperature\" :  0\n"
          ]
        }
      ],
      "source": [
        "#Verifico  valores 0 en Active_Energy_Delivered, Power_Factor_Total y Temperature\n",
        "print('Cantidad de CEROS en columna \"Active_Energy_Delivered\" : ', (toma_df['Active_Energy_Delivered'] == 0).sum())\n",
        "print('Cantidad de CEROS en columna \"Power_Factor_Total\" : ', (toma_df['Power_Factor_Total'] == 0).sum())\n",
        "print('Cantidad de CEROS en columna \"Temperature\" : ', (toma_df['Temperature'] == 0).sum())"
      ],
      "id": "-bJq4jM9WpbF"
    },
    {
      "cell_type": "code",
      "execution_count": null,
      "metadata": {
        "colab": {
          "base_uri": "https://localhost:8080/"
        },
        "id": "B1uuevgFWwHD",
        "outputId": "cae5fe5f-0bbc-4ea0-e4c2-80c96afce832"
      },
      "outputs": [
        {
          "output_type": "execute_result",
          "data": {
            "text/plain": [
              "(1381854, 5)"
            ]
          },
          "metadata": {},
          "execution_count": 12
        }
      ],
      "source": [
        "toma_df.shape"
      ],
      "id": "B1uuevgFWwHD"
    },
    {
      "cell_type": "markdown",
      "metadata": {
        "id": "U2gQp1MaXb1Z"
      },
      "source": [
        "Truncamos las mediciones a 1 registro por minuto"
      ],
      "id": "U2gQp1MaXb1Z"
    },
    {
      "cell_type": "code",
      "execution_count": null,
      "metadata": {
        "id": "1OA9noF1XfgB"
      },
      "outputs": [],
      "source": [
        "toma_df['Fecha_Hora_Min'] = toma_df['FECHA_HORA'].dt.floor('min')\n",
        "toma_df = toma_df.groupby('Fecha_Hora_Min').agg(TEMP = ('Temperature','max'),Power_Factor_Total = ('Power_Factor_Total','min'),Active_Energy_Delivered = ('Active_Energy_Delivered','last')).reset_index()"
      ],
      "id": "1OA9noF1XfgB"
    },
    {
      "cell_type": "code",
      "execution_count": null,
      "metadata": {
        "colab": {
          "base_uri": "https://localhost:8080/",
          "height": 206
        },
        "id": "VBUEyj3GbdvK",
        "outputId": "479ea0b3-a236-4b41-d5e6-0342a00e8878"
      },
      "outputs": [
        {
          "output_type": "execute_result",
          "data": {
            "text/plain": [
              "       Fecha_Hora_Min   TEMP  Power_Factor_Total  Active_Energy_Delivered\n",
              "0 2021-01-01 00:00:00  47.08                0.96                119490.08\n",
              "1 2021-01-01 00:01:00  47.08                0.93                119490.14\n",
              "2 2021-01-01 00:02:00  46.77                0.94                119490.23\n",
              "3 2021-01-01 00:03:00  46.77                0.94                119490.29\n",
              "4 2021-01-01 00:04:00  46.46                0.94                119490.36"
            ],
            "text/html": [
              "\n",
              "  <div id=\"df-8800b1fa-da4c-4943-9d89-44785cacc43f\">\n",
              "    <div class=\"colab-df-container\">\n",
              "      <div>\n",
              "<style scoped>\n",
              "    .dataframe tbody tr th:only-of-type {\n",
              "        vertical-align: middle;\n",
              "    }\n",
              "\n",
              "    .dataframe tbody tr th {\n",
              "        vertical-align: top;\n",
              "    }\n",
              "\n",
              "    .dataframe thead th {\n",
              "        text-align: right;\n",
              "    }\n",
              "</style>\n",
              "<table border=\"1\" class=\"dataframe\">\n",
              "  <thead>\n",
              "    <tr style=\"text-align: right;\">\n",
              "      <th></th>\n",
              "      <th>Fecha_Hora_Min</th>\n",
              "      <th>TEMP</th>\n",
              "      <th>Power_Factor_Total</th>\n",
              "      <th>Active_Energy_Delivered</th>\n",
              "    </tr>\n",
              "  </thead>\n",
              "  <tbody>\n",
              "    <tr>\n",
              "      <th>0</th>\n",
              "      <td>2021-01-01 00:00:00</td>\n",
              "      <td>47.08</td>\n",
              "      <td>0.96</td>\n",
              "      <td>119490.08</td>\n",
              "    </tr>\n",
              "    <tr>\n",
              "      <th>1</th>\n",
              "      <td>2021-01-01 00:01:00</td>\n",
              "      <td>47.08</td>\n",
              "      <td>0.93</td>\n",
              "      <td>119490.14</td>\n",
              "    </tr>\n",
              "    <tr>\n",
              "      <th>2</th>\n",
              "      <td>2021-01-01 00:02:00</td>\n",
              "      <td>46.77</td>\n",
              "      <td>0.94</td>\n",
              "      <td>119490.23</td>\n",
              "    </tr>\n",
              "    <tr>\n",
              "      <th>3</th>\n",
              "      <td>2021-01-01 00:03:00</td>\n",
              "      <td>46.77</td>\n",
              "      <td>0.94</td>\n",
              "      <td>119490.29</td>\n",
              "    </tr>\n",
              "    <tr>\n",
              "      <th>4</th>\n",
              "      <td>2021-01-01 00:04:00</td>\n",
              "      <td>46.46</td>\n",
              "      <td>0.94</td>\n",
              "      <td>119490.36</td>\n",
              "    </tr>\n",
              "  </tbody>\n",
              "</table>\n",
              "</div>\n",
              "      <button class=\"colab-df-convert\" onclick=\"convertToInteractive('df-8800b1fa-da4c-4943-9d89-44785cacc43f')\"\n",
              "              title=\"Convert this dataframe to an interactive table.\"\n",
              "              style=\"display:none;\">\n",
              "        \n",
              "  <svg xmlns=\"http://www.w3.org/2000/svg\" height=\"24px\"viewBox=\"0 0 24 24\"\n",
              "       width=\"24px\">\n",
              "    <path d=\"M0 0h24v24H0V0z\" fill=\"none\"/>\n",
              "    <path d=\"M18.56 5.44l.94 2.06.94-2.06 2.06-.94-2.06-.94-.94-2.06-.94 2.06-2.06.94zm-11 1L8.5 8.5l.94-2.06 2.06-.94-2.06-.94L8.5 2.5l-.94 2.06-2.06.94zm10 10l.94 2.06.94-2.06 2.06-.94-2.06-.94-.94-2.06-.94 2.06-2.06.94z\"/><path d=\"M17.41 7.96l-1.37-1.37c-.4-.4-.92-.59-1.43-.59-.52 0-1.04.2-1.43.59L10.3 9.45l-7.72 7.72c-.78.78-.78 2.05 0 2.83L4 21.41c.39.39.9.59 1.41.59.51 0 1.02-.2 1.41-.59l7.78-7.78 2.81-2.81c.8-.78.8-2.07 0-2.86zM5.41 20L4 18.59l7.72-7.72 1.47 1.35L5.41 20z\"/>\n",
              "  </svg>\n",
              "      </button>\n",
              "      \n",
              "  <style>\n",
              "    .colab-df-container {\n",
              "      display:flex;\n",
              "      flex-wrap:wrap;\n",
              "      gap: 12px;\n",
              "    }\n",
              "\n",
              "    .colab-df-convert {\n",
              "      background-color: #E8F0FE;\n",
              "      border: none;\n",
              "      border-radius: 50%;\n",
              "      cursor: pointer;\n",
              "      display: none;\n",
              "      fill: #1967D2;\n",
              "      height: 32px;\n",
              "      padding: 0 0 0 0;\n",
              "      width: 32px;\n",
              "    }\n",
              "\n",
              "    .colab-df-convert:hover {\n",
              "      background-color: #E2EBFA;\n",
              "      box-shadow: 0px 1px 2px rgba(60, 64, 67, 0.3), 0px 1px 3px 1px rgba(60, 64, 67, 0.15);\n",
              "      fill: #174EA6;\n",
              "    }\n",
              "\n",
              "    [theme=dark] .colab-df-convert {\n",
              "      background-color: #3B4455;\n",
              "      fill: #D2E3FC;\n",
              "    }\n",
              "\n",
              "    [theme=dark] .colab-df-convert:hover {\n",
              "      background-color: #434B5C;\n",
              "      box-shadow: 0px 1px 3px 1px rgba(0, 0, 0, 0.15);\n",
              "      filter: drop-shadow(0px 1px 2px rgba(0, 0, 0, 0.3));\n",
              "      fill: #FFFFFF;\n",
              "    }\n",
              "  </style>\n",
              "\n",
              "      <script>\n",
              "        const buttonEl =\n",
              "          document.querySelector('#df-8800b1fa-da4c-4943-9d89-44785cacc43f button.colab-df-convert');\n",
              "        buttonEl.style.display =\n",
              "          google.colab.kernel.accessAllowed ? 'block' : 'none';\n",
              "\n",
              "        async function convertToInteractive(key) {\n",
              "          const element = document.querySelector('#df-8800b1fa-da4c-4943-9d89-44785cacc43f');\n",
              "          const dataTable =\n",
              "            await google.colab.kernel.invokeFunction('convertToInteractive',\n",
              "                                                     [key], {});\n",
              "          if (!dataTable) return;\n",
              "\n",
              "          const docLinkHtml = 'Like what you see? Visit the ' +\n",
              "            '<a target=\"_blank\" href=https://colab.research.google.com/notebooks/data_table.ipynb>data table notebook</a>'\n",
              "            + ' to learn more about interactive tables.';\n",
              "          element.innerHTML = '';\n",
              "          dataTable['output_type'] = 'display_data';\n",
              "          await google.colab.output.renderOutput(dataTable, element);\n",
              "          const docLink = document.createElement('div');\n",
              "          docLink.innerHTML = docLinkHtml;\n",
              "          element.appendChild(docLink);\n",
              "        }\n",
              "      </script>\n",
              "    </div>\n",
              "  </div>\n",
              "  "
            ]
          },
          "metadata": {},
          "execution_count": 14
        }
      ],
      "source": [
        "toma_df[:5]"
      ],
      "id": "VBUEyj3GbdvK"
    },
    {
      "cell_type": "markdown",
      "metadata": {
        "id": "ZMz0fXt4b2XK"
      },
      "source": [
        "Verificamos faltantes de informacion"
      ],
      "id": "ZMz0fXt4b2XK"
    },
    {
      "cell_type": "code",
      "execution_count": null,
      "metadata": {
        "colab": {
          "base_uri": "https://localhost:8080/"
        },
        "id": "6cRuocbttBPL",
        "outputId": "d2bcd9f5-247b-41c2-936c-30c413394562"
      },
      "outputs": [
        {
          "output_type": "stream",
          "name": "stdout",
          "text": [
            "Registros faltantes:  DatetimeIndex(['2021-01-04 08:01:00', '2021-01-04 08:02:00',\n",
            "               '2021-01-04 08:03:00', '2021-01-04 08:04:00',\n",
            "               '2021-01-04 08:06:00', '2021-01-04 08:07:00',\n",
            "               '2021-01-04 08:09:00', '2021-01-04 08:10:00',\n",
            "               '2021-01-04 08:13:00', '2021-01-04 08:14:00',\n",
            "               ...\n",
            "               '2021-12-31 11:54:00', '2021-12-31 11:55:00',\n",
            "               '2021-12-31 11:56:00', '2021-12-31 11:57:00',\n",
            "               '2021-12-31 11:58:00', '2021-12-31 11:59:00',\n",
            "               '2021-12-31 12:00:00', '2021-12-31 12:01:00',\n",
            "               '2021-12-31 12:02:00', '2021-12-31 12:03:00'],\n",
            "              dtype='datetime64[ns]', length=255450, freq=None)\n"
          ]
        }
      ],
      "source": [
        "toma_df.set_index('Fecha_Hora_Min',drop=True,inplace=True)\n",
        "#df.index = pd.to_datetime(df.index, format = '%Y-%m-%d %H:%M:%S')\n",
        "idx = pd.date_range(toma_df.index.min(), toma_df.index.max(), freq='min')\n",
        "print('Registros faltantes: ',idx.difference(toma_df.index))"
      ],
      "id": "6cRuocbttBPL"
    },
    {
      "cell_type": "markdown",
      "metadata": {
        "id": "6FX-h_iTjTL2"
      },
      "source": [
        "Completamos registros faltantes"
      ],
      "id": "6FX-h_iTjTL2"
    },
    {
      "cell_type": "code",
      "execution_count": null,
      "metadata": {
        "colab": {
          "base_uri": "https://localhost:8080/"
        },
        "id": "oE0RbrxbjXGA",
        "outputId": "efc386b9-62b3-4a2c-c6a4-28edb44397ad"
      },
      "outputs": [
        {
          "output_type": "stream",
          "name": "stdout",
          "text": [
            "Registros faltantes despues de completamiento:  DatetimeIndex([], dtype='datetime64[ns]', freq='T')\n"
          ]
        }
      ],
      "source": [
        "\n",
        "toma_df=toma_df.reindex(idx,fill_value=np.nan)\n",
        "print('Registros faltantes despues de completamiento: ',idx.difference(toma_df.index))\n",
        "toma_df['Fecha_Hora_Min'] = toma_df.index\n",
        "toma_df.reset_index(drop=True,inplace=True)"
      ],
      "id": "oE0RbrxbjXGA"
    },
    {
      "cell_type": "code",
      "execution_count": null,
      "metadata": {
        "id": "KLiyUATgtKe6"
      },
      "outputs": [],
      "source": [
        "toma_df.rename(columns = {'Fecha_Hora_Min': 'FECHA_HORA','TEMP': 'TEMP_INT'}, inplace = True)"
      ],
      "id": "KLiyUATgtKe6"
    },
    {
      "cell_type": "code",
      "execution_count": null,
      "metadata": {
        "colab": {
          "base_uri": "https://localhost:8080/",
          "height": 424
        },
        "id": "cNzCZ3RQsOea",
        "outputId": "292fcc4e-b42c-4f94-b919-e6e4e0116ff0"
      },
      "outputs": [
        {
          "output_type": "execute_result",
          "data": {
            "text/plain": [
              "                FECHA_HORA  Power_Factor_Total  Active_Energy_Delivered\n",
              "55237  2021-02-08 08:37:00                0.74                135192.30\n",
              "55238  2021-02-08 08:38:00                 NaN                      NaN\n",
              "55239  2021-02-08 08:39:00                 NaN                      NaN\n",
              "55240  2021-02-08 08:40:00                 NaN                      NaN\n",
              "55241  2021-02-08 08:41:00                 NaN                      NaN\n",
              "...                    ...                 ...                      ...\n",
              "300173 2021-07-28 10:53:00                 NaN                      NaN\n",
              "300174 2021-07-28 10:54:00                 NaN                      NaN\n",
              "300175 2021-07-28 10:55:00                 NaN                      NaN\n",
              "300176 2021-07-28 10:56:00                 NaN                      NaN\n",
              "300177 2021-07-28 10:57:00                0.81                199991.16\n",
              "\n",
              "[244941 rows x 3 columns]"
            ],
            "text/html": [
              "\n",
              "  <div id=\"df-f8791bea-29ba-4a90-b351-28593cc55e47\">\n",
              "    <div class=\"colab-df-container\">\n",
              "      <div>\n",
              "<style scoped>\n",
              "    .dataframe tbody tr th:only-of-type {\n",
              "        vertical-align: middle;\n",
              "    }\n",
              "\n",
              "    .dataframe tbody tr th {\n",
              "        vertical-align: top;\n",
              "    }\n",
              "\n",
              "    .dataframe thead th {\n",
              "        text-align: right;\n",
              "    }\n",
              "</style>\n",
              "<table border=\"1\" class=\"dataframe\">\n",
              "  <thead>\n",
              "    <tr style=\"text-align: right;\">\n",
              "      <th></th>\n",
              "      <th>FECHA_HORA</th>\n",
              "      <th>Power_Factor_Total</th>\n",
              "      <th>Active_Energy_Delivered</th>\n",
              "    </tr>\n",
              "  </thead>\n",
              "  <tbody>\n",
              "    <tr>\n",
              "      <th>55237</th>\n",
              "      <td>2021-02-08 08:37:00</td>\n",
              "      <td>0.74</td>\n",
              "      <td>135192.30</td>\n",
              "    </tr>\n",
              "    <tr>\n",
              "      <th>55238</th>\n",
              "      <td>2021-02-08 08:38:00</td>\n",
              "      <td>NaN</td>\n",
              "      <td>NaN</td>\n",
              "    </tr>\n",
              "    <tr>\n",
              "      <th>55239</th>\n",
              "      <td>2021-02-08 08:39:00</td>\n",
              "      <td>NaN</td>\n",
              "      <td>NaN</td>\n",
              "    </tr>\n",
              "    <tr>\n",
              "      <th>55240</th>\n",
              "      <td>2021-02-08 08:40:00</td>\n",
              "      <td>NaN</td>\n",
              "      <td>NaN</td>\n",
              "    </tr>\n",
              "    <tr>\n",
              "      <th>55241</th>\n",
              "      <td>2021-02-08 08:41:00</td>\n",
              "      <td>NaN</td>\n",
              "      <td>NaN</td>\n",
              "    </tr>\n",
              "    <tr>\n",
              "      <th>...</th>\n",
              "      <td>...</td>\n",
              "      <td>...</td>\n",
              "      <td>...</td>\n",
              "    </tr>\n",
              "    <tr>\n",
              "      <th>300173</th>\n",
              "      <td>2021-07-28 10:53:00</td>\n",
              "      <td>NaN</td>\n",
              "      <td>NaN</td>\n",
              "    </tr>\n",
              "    <tr>\n",
              "      <th>300174</th>\n",
              "      <td>2021-07-28 10:54:00</td>\n",
              "      <td>NaN</td>\n",
              "      <td>NaN</td>\n",
              "    </tr>\n",
              "    <tr>\n",
              "      <th>300175</th>\n",
              "      <td>2021-07-28 10:55:00</td>\n",
              "      <td>NaN</td>\n",
              "      <td>NaN</td>\n",
              "    </tr>\n",
              "    <tr>\n",
              "      <th>300176</th>\n",
              "      <td>2021-07-28 10:56:00</td>\n",
              "      <td>NaN</td>\n",
              "      <td>NaN</td>\n",
              "    </tr>\n",
              "    <tr>\n",
              "      <th>300177</th>\n",
              "      <td>2021-07-28 10:57:00</td>\n",
              "      <td>0.81</td>\n",
              "      <td>199991.16</td>\n",
              "    </tr>\n",
              "  </tbody>\n",
              "</table>\n",
              "<p>244941 rows × 3 columns</p>\n",
              "</div>\n",
              "      <button class=\"colab-df-convert\" onclick=\"convertToInteractive('df-f8791bea-29ba-4a90-b351-28593cc55e47')\"\n",
              "              title=\"Convert this dataframe to an interactive table.\"\n",
              "              style=\"display:none;\">\n",
              "        \n",
              "  <svg xmlns=\"http://www.w3.org/2000/svg\" height=\"24px\"viewBox=\"0 0 24 24\"\n",
              "       width=\"24px\">\n",
              "    <path d=\"M0 0h24v24H0V0z\" fill=\"none\"/>\n",
              "    <path d=\"M18.56 5.44l.94 2.06.94-2.06 2.06-.94-2.06-.94-.94-2.06-.94 2.06-2.06.94zm-11 1L8.5 8.5l.94-2.06 2.06-.94-2.06-.94L8.5 2.5l-.94 2.06-2.06.94zm10 10l.94 2.06.94-2.06 2.06-.94-2.06-.94-.94-2.06-.94 2.06-2.06.94z\"/><path d=\"M17.41 7.96l-1.37-1.37c-.4-.4-.92-.59-1.43-.59-.52 0-1.04.2-1.43.59L10.3 9.45l-7.72 7.72c-.78.78-.78 2.05 0 2.83L4 21.41c.39.39.9.59 1.41.59.51 0 1.02-.2 1.41-.59l7.78-7.78 2.81-2.81c.8-.78.8-2.07 0-2.86zM5.41 20L4 18.59l7.72-7.72 1.47 1.35L5.41 20z\"/>\n",
              "  </svg>\n",
              "      </button>\n",
              "      \n",
              "  <style>\n",
              "    .colab-df-container {\n",
              "      display:flex;\n",
              "      flex-wrap:wrap;\n",
              "      gap: 12px;\n",
              "    }\n",
              "\n",
              "    .colab-df-convert {\n",
              "      background-color: #E8F0FE;\n",
              "      border: none;\n",
              "      border-radius: 50%;\n",
              "      cursor: pointer;\n",
              "      display: none;\n",
              "      fill: #1967D2;\n",
              "      height: 32px;\n",
              "      padding: 0 0 0 0;\n",
              "      width: 32px;\n",
              "    }\n",
              "\n",
              "    .colab-df-convert:hover {\n",
              "      background-color: #E2EBFA;\n",
              "      box-shadow: 0px 1px 2px rgba(60, 64, 67, 0.3), 0px 1px 3px 1px rgba(60, 64, 67, 0.15);\n",
              "      fill: #174EA6;\n",
              "    }\n",
              "\n",
              "    [theme=dark] .colab-df-convert {\n",
              "      background-color: #3B4455;\n",
              "      fill: #D2E3FC;\n",
              "    }\n",
              "\n",
              "    [theme=dark] .colab-df-convert:hover {\n",
              "      background-color: #434B5C;\n",
              "      box-shadow: 0px 1px 3px 1px rgba(0, 0, 0, 0.15);\n",
              "      filter: drop-shadow(0px 1px 2px rgba(0, 0, 0, 0.3));\n",
              "      fill: #FFFFFF;\n",
              "    }\n",
              "  </style>\n",
              "\n",
              "      <script>\n",
              "        const buttonEl =\n",
              "          document.querySelector('#df-f8791bea-29ba-4a90-b351-28593cc55e47 button.colab-df-convert');\n",
              "        buttonEl.style.display =\n",
              "          google.colab.kernel.accessAllowed ? 'block' : 'none';\n",
              "\n",
              "        async function convertToInteractive(key) {\n",
              "          const element = document.querySelector('#df-f8791bea-29ba-4a90-b351-28593cc55e47');\n",
              "          const dataTable =\n",
              "            await google.colab.kernel.invokeFunction('convertToInteractive',\n",
              "                                                     [key], {});\n",
              "          if (!dataTable) return;\n",
              "\n",
              "          const docLinkHtml = 'Like what you see? Visit the ' +\n",
              "            '<a target=\"_blank\" href=https://colab.research.google.com/notebooks/data_table.ipynb>data table notebook</a>'\n",
              "            + ' to learn more about interactive tables.';\n",
              "          element.innerHTML = '';\n",
              "          dataTable['output_type'] = 'display_data';\n",
              "          await google.colab.output.renderOutput(dataTable, element);\n",
              "          const docLink = document.createElement('div');\n",
              "          docLink.innerHTML = docLinkHtml;\n",
              "          element.appendChild(docLink);\n",
              "        }\n",
              "      </script>\n",
              "    </div>\n",
              "  </div>\n",
              "  "
            ]
          },
          "metadata": {},
          "execution_count": 18
        }
      ],
      "source": [
        "mask = ((toma_df[\"FECHA_HORA\"] >= '2021-02-08 08:37:00') & (toma_df[\"FECHA_HORA\"] <= '2021-07-28 10:57:00'))\n",
        "toma_df[['FECHA_HORA', 'Power_Factor_Total', 'Active_Energy_Delivered']].loc[mask]"
      ],
      "id": "cNzCZ3RQsOea"
    },
    {
      "cell_type": "markdown",
      "metadata": {
        "id": "z0O1-FNBtSlE"
      },
      "source": [
        "Utilizamos el método interpolate() para hacer una interpolación lineal de la columna \"Active_Energy_Delivered\" entre cada datapoint. Para \"TEMP\" usaremos la media, al igual que para \"Power_Factor_Total\""
      ],
      "id": "z0O1-FNBtSlE"
    },
    {
      "cell_type": "code",
      "execution_count": null,
      "metadata": {
        "id": "aVc8Xz9uMhQ2"
      },
      "outputs": [],
      "source": [
        "toma_df[['Active_Energy_Delivered']] = toma_df[['Active_Energy_Delivered']].interpolate()"
      ],
      "id": "aVc8Xz9uMhQ2"
    },
    {
      "cell_type": "code",
      "execution_count": null,
      "metadata": {
        "id": "tICL6CpkPFD3"
      },
      "outputs": [],
      "source": [
        "mean_value=toma_df['TEMP_INT'].mean()\n",
        "toma_df['TEMP_INT'].fillna(value=mean_value, inplace=True)\n",
        "mean_value=toma_df['Power_Factor_Total'].mean()\n",
        "toma_df['Power_Factor_Total'].fillna(value=mean_value, inplace=True)"
      ],
      "id": "tICL6CpkPFD3"
    },
    {
      "cell_type": "code",
      "execution_count": null,
      "metadata": {
        "colab": {
          "base_uri": "https://localhost:8080/",
          "height": 424
        },
        "id": "YoRgumWmNAvn",
        "outputId": "8ca36457-33da-4c34-b02a-43e319791367"
      },
      "outputs": [
        {
          "output_type": "execute_result",
          "data": {
            "text/plain": [
              "                FECHA_HORA  Power_Factor_Total  Active_Energy_Delivered\n",
              "55237  2021-02-08 08:37:00            0.740000             135192.30000\n",
              "55238  2021-02-08 08:38:00            0.847739             135192.56455\n",
              "55239  2021-02-08 08:39:00            0.847739             135192.82910\n",
              "55240  2021-02-08 08:40:00            0.847739             135193.09365\n",
              "55241  2021-02-08 08:41:00            0.847739             135193.35820\n",
              "...                    ...                 ...                      ...\n",
              "300173 2021-07-28 10:53:00            0.847739             199990.10180\n",
              "300174 2021-07-28 10:54:00            0.847739             199990.36635\n",
              "300175 2021-07-28 10:55:00            0.847739             199990.63090\n",
              "300176 2021-07-28 10:56:00            0.847739             199990.89545\n",
              "300177 2021-07-28 10:57:00            0.810000             199991.16000\n",
              "\n",
              "[244941 rows x 3 columns]"
            ],
            "text/html": [
              "\n",
              "  <div id=\"df-f688dff0-dfa7-4688-9255-d5c1a4bb024d\">\n",
              "    <div class=\"colab-df-container\">\n",
              "      <div>\n",
              "<style scoped>\n",
              "    .dataframe tbody tr th:only-of-type {\n",
              "        vertical-align: middle;\n",
              "    }\n",
              "\n",
              "    .dataframe tbody tr th {\n",
              "        vertical-align: top;\n",
              "    }\n",
              "\n",
              "    .dataframe thead th {\n",
              "        text-align: right;\n",
              "    }\n",
              "</style>\n",
              "<table border=\"1\" class=\"dataframe\">\n",
              "  <thead>\n",
              "    <tr style=\"text-align: right;\">\n",
              "      <th></th>\n",
              "      <th>FECHA_HORA</th>\n",
              "      <th>Power_Factor_Total</th>\n",
              "      <th>Active_Energy_Delivered</th>\n",
              "    </tr>\n",
              "  </thead>\n",
              "  <tbody>\n",
              "    <tr>\n",
              "      <th>55237</th>\n",
              "      <td>2021-02-08 08:37:00</td>\n",
              "      <td>0.740000</td>\n",
              "      <td>135192.30000</td>\n",
              "    </tr>\n",
              "    <tr>\n",
              "      <th>55238</th>\n",
              "      <td>2021-02-08 08:38:00</td>\n",
              "      <td>0.847739</td>\n",
              "      <td>135192.56455</td>\n",
              "    </tr>\n",
              "    <tr>\n",
              "      <th>55239</th>\n",
              "      <td>2021-02-08 08:39:00</td>\n",
              "      <td>0.847739</td>\n",
              "      <td>135192.82910</td>\n",
              "    </tr>\n",
              "    <tr>\n",
              "      <th>55240</th>\n",
              "      <td>2021-02-08 08:40:00</td>\n",
              "      <td>0.847739</td>\n",
              "      <td>135193.09365</td>\n",
              "    </tr>\n",
              "    <tr>\n",
              "      <th>55241</th>\n",
              "      <td>2021-02-08 08:41:00</td>\n",
              "      <td>0.847739</td>\n",
              "      <td>135193.35820</td>\n",
              "    </tr>\n",
              "    <tr>\n",
              "      <th>...</th>\n",
              "      <td>...</td>\n",
              "      <td>...</td>\n",
              "      <td>...</td>\n",
              "    </tr>\n",
              "    <tr>\n",
              "      <th>300173</th>\n",
              "      <td>2021-07-28 10:53:00</td>\n",
              "      <td>0.847739</td>\n",
              "      <td>199990.10180</td>\n",
              "    </tr>\n",
              "    <tr>\n",
              "      <th>300174</th>\n",
              "      <td>2021-07-28 10:54:00</td>\n",
              "      <td>0.847739</td>\n",
              "      <td>199990.36635</td>\n",
              "    </tr>\n",
              "    <tr>\n",
              "      <th>300175</th>\n",
              "      <td>2021-07-28 10:55:00</td>\n",
              "      <td>0.847739</td>\n",
              "      <td>199990.63090</td>\n",
              "    </tr>\n",
              "    <tr>\n",
              "      <th>300176</th>\n",
              "      <td>2021-07-28 10:56:00</td>\n",
              "      <td>0.847739</td>\n",
              "      <td>199990.89545</td>\n",
              "    </tr>\n",
              "    <tr>\n",
              "      <th>300177</th>\n",
              "      <td>2021-07-28 10:57:00</td>\n",
              "      <td>0.810000</td>\n",
              "      <td>199991.16000</td>\n",
              "    </tr>\n",
              "  </tbody>\n",
              "</table>\n",
              "<p>244941 rows × 3 columns</p>\n",
              "</div>\n",
              "      <button class=\"colab-df-convert\" onclick=\"convertToInteractive('df-f688dff0-dfa7-4688-9255-d5c1a4bb024d')\"\n",
              "              title=\"Convert this dataframe to an interactive table.\"\n",
              "              style=\"display:none;\">\n",
              "        \n",
              "  <svg xmlns=\"http://www.w3.org/2000/svg\" height=\"24px\"viewBox=\"0 0 24 24\"\n",
              "       width=\"24px\">\n",
              "    <path d=\"M0 0h24v24H0V0z\" fill=\"none\"/>\n",
              "    <path d=\"M18.56 5.44l.94 2.06.94-2.06 2.06-.94-2.06-.94-.94-2.06-.94 2.06-2.06.94zm-11 1L8.5 8.5l.94-2.06 2.06-.94-2.06-.94L8.5 2.5l-.94 2.06-2.06.94zm10 10l.94 2.06.94-2.06 2.06-.94-2.06-.94-.94-2.06-.94 2.06-2.06.94z\"/><path d=\"M17.41 7.96l-1.37-1.37c-.4-.4-.92-.59-1.43-.59-.52 0-1.04.2-1.43.59L10.3 9.45l-7.72 7.72c-.78.78-.78 2.05 0 2.83L4 21.41c.39.39.9.59 1.41.59.51 0 1.02-.2 1.41-.59l7.78-7.78 2.81-2.81c.8-.78.8-2.07 0-2.86zM5.41 20L4 18.59l7.72-7.72 1.47 1.35L5.41 20z\"/>\n",
              "  </svg>\n",
              "      </button>\n",
              "      \n",
              "  <style>\n",
              "    .colab-df-container {\n",
              "      display:flex;\n",
              "      flex-wrap:wrap;\n",
              "      gap: 12px;\n",
              "    }\n",
              "\n",
              "    .colab-df-convert {\n",
              "      background-color: #E8F0FE;\n",
              "      border: none;\n",
              "      border-radius: 50%;\n",
              "      cursor: pointer;\n",
              "      display: none;\n",
              "      fill: #1967D2;\n",
              "      height: 32px;\n",
              "      padding: 0 0 0 0;\n",
              "      width: 32px;\n",
              "    }\n",
              "\n",
              "    .colab-df-convert:hover {\n",
              "      background-color: #E2EBFA;\n",
              "      box-shadow: 0px 1px 2px rgba(60, 64, 67, 0.3), 0px 1px 3px 1px rgba(60, 64, 67, 0.15);\n",
              "      fill: #174EA6;\n",
              "    }\n",
              "\n",
              "    [theme=dark] .colab-df-convert {\n",
              "      background-color: #3B4455;\n",
              "      fill: #D2E3FC;\n",
              "    }\n",
              "\n",
              "    [theme=dark] .colab-df-convert:hover {\n",
              "      background-color: #434B5C;\n",
              "      box-shadow: 0px 1px 3px 1px rgba(0, 0, 0, 0.15);\n",
              "      filter: drop-shadow(0px 1px 2px rgba(0, 0, 0, 0.3));\n",
              "      fill: #FFFFFF;\n",
              "    }\n",
              "  </style>\n",
              "\n",
              "      <script>\n",
              "        const buttonEl =\n",
              "          document.querySelector('#df-f688dff0-dfa7-4688-9255-d5c1a4bb024d button.colab-df-convert');\n",
              "        buttonEl.style.display =\n",
              "          google.colab.kernel.accessAllowed ? 'block' : 'none';\n",
              "\n",
              "        async function convertToInteractive(key) {\n",
              "          const element = document.querySelector('#df-f688dff0-dfa7-4688-9255-d5c1a4bb024d');\n",
              "          const dataTable =\n",
              "            await google.colab.kernel.invokeFunction('convertToInteractive',\n",
              "                                                     [key], {});\n",
              "          if (!dataTable) return;\n",
              "\n",
              "          const docLinkHtml = 'Like what you see? Visit the ' +\n",
              "            '<a target=\"_blank\" href=https://colab.research.google.com/notebooks/data_table.ipynb>data table notebook</a>'\n",
              "            + ' to learn more about interactive tables.';\n",
              "          element.innerHTML = '';\n",
              "          dataTable['output_type'] = 'display_data';\n",
              "          await google.colab.output.renderOutput(dataTable, element);\n",
              "          const docLink = document.createElement('div');\n",
              "          docLink.innerHTML = docLinkHtml;\n",
              "          element.appendChild(docLink);\n",
              "        }\n",
              "      </script>\n",
              "    </div>\n",
              "  </div>\n",
              "  "
            ]
          },
          "metadata": {},
          "execution_count": 21
        }
      ],
      "source": [
        "mask = ((toma_df[\"FECHA_HORA\"] >= '2021-02-08 08:37:00') & (toma_df[\"FECHA_HORA\"] <= '2021-07-28 10:57:00'))\n",
        "toma_df[['FECHA_HORA', 'Power_Factor_Total', 'Active_Energy_Delivered']].loc[mask]"
      ],
      "id": "YoRgumWmNAvn"
    },
    {
      "cell_type": "markdown",
      "metadata": {
        "id": "FSsATjICTYny"
      },
      "source": [
        "#Dataset SMN"
      ],
      "id": "FSsATjICTYny"
    },
    {
      "cell_type": "code",
      "execution_count": null,
      "metadata": {
        "colab": {
          "base_uri": "https://localhost:8080/"
        },
        "id": "5f3d4c20-58ea-4180-b212-165019900a4b",
        "outputId": "ff66e02b-edaa-43cb-d93a-e71e97f5f008"
      },
      "outputs": [
        {
          "output_type": "execute_result",
          "data": {
            "text/plain": [
              "Index(['FECHA', 'HORA', 'TEMP', 'HUM', 'PNM', 'DD', 'FF', 'NOMBRE',\n",
              "       'FECHA_HORA'],\n",
              "      dtype='object')"
            ]
          },
          "metadata": {},
          "execution_count": 22
        }
      ],
      "source": [
        "clima_df.columns"
      ],
      "id": "5f3d4c20-58ea-4180-b212-165019900a4b"
    },
    {
      "cell_type": "code",
      "execution_count": null,
      "metadata": {
        "colab": {
          "base_uri": "https://localhost:8080/"
        },
        "id": "2f055f08-aa5b-49c6-b9e0-1b4c07861c8c",
        "outputId": "1b5bd207-a26b-470c-a7cb-21f8e563757a"
      },
      "outputs": [
        {
          "output_type": "execute_result",
          "data": {
            "text/plain": [
              "(8760, 9)"
            ]
          },
          "metadata": {},
          "execution_count": 23
        }
      ],
      "source": [
        "clima_df.shape"
      ],
      "id": "2f055f08-aa5b-49c6-b9e0-1b4c07861c8c"
    },
    {
      "cell_type": "code",
      "execution_count": null,
      "metadata": {
        "colab": {
          "base_uri": "https://localhost:8080/",
          "height": 206
        },
        "id": "O1VCt3ieD2YQ",
        "outputId": "d27438bb-8760-455e-900f-3b912025b34f"
      },
      "outputs": [
        {
          "output_type": "execute_result",
          "data": {
            "text/plain": [
              "     FECHA  HORA  TEMP  HUM       PNM   DD  FF                NOMBRE  \\\n",
              "0  1012021     0  21.0   51    1012.9   50   6  CORDOBA OBSERVATORIO   \n",
              "1  1012021     1  21.2   47    1012.6   20   6  CORDOBA OBSERVATORIO   \n",
              "2  1012021     2  20.7   49    1010.7  340   4  CORDOBA OBSERVATORIO   \n",
              "3  1012021     3  19.4   55    1011.3  320   4  CORDOBA OBSERVATORIO   \n",
              "4  1012021     4  19.6   53    1011.2  360   7  CORDOBA OBSERVATORIO   \n",
              "\n",
              "           FECHA_HORA  \n",
              "0 2021-01-01 00:00:00  \n",
              "1 2021-01-01 01:00:00  \n",
              "2 2021-01-01 02:00:00  \n",
              "3 2021-01-01 03:00:00  \n",
              "4 2021-01-01 04:00:00  "
            ],
            "text/html": [
              "\n",
              "  <div id=\"df-0471a485-a8db-4d9d-84de-35a89fbd34e0\">\n",
              "    <div class=\"colab-df-container\">\n",
              "      <div>\n",
              "<style scoped>\n",
              "    .dataframe tbody tr th:only-of-type {\n",
              "        vertical-align: middle;\n",
              "    }\n",
              "\n",
              "    .dataframe tbody tr th {\n",
              "        vertical-align: top;\n",
              "    }\n",
              "\n",
              "    .dataframe thead th {\n",
              "        text-align: right;\n",
              "    }\n",
              "</style>\n",
              "<table border=\"1\" class=\"dataframe\">\n",
              "  <thead>\n",
              "    <tr style=\"text-align: right;\">\n",
              "      <th></th>\n",
              "      <th>FECHA</th>\n",
              "      <th>HORA</th>\n",
              "      <th>TEMP</th>\n",
              "      <th>HUM</th>\n",
              "      <th>PNM</th>\n",
              "      <th>DD</th>\n",
              "      <th>FF</th>\n",
              "      <th>NOMBRE</th>\n",
              "      <th>FECHA_HORA</th>\n",
              "    </tr>\n",
              "  </thead>\n",
              "  <tbody>\n",
              "    <tr>\n",
              "      <th>0</th>\n",
              "      <td>1012021</td>\n",
              "      <td>0</td>\n",
              "      <td>21.0</td>\n",
              "      <td>51</td>\n",
              "      <td>1012.9</td>\n",
              "      <td>50</td>\n",
              "      <td>6</td>\n",
              "      <td>CORDOBA OBSERVATORIO</td>\n",
              "      <td>2021-01-01 00:00:00</td>\n",
              "    </tr>\n",
              "    <tr>\n",
              "      <th>1</th>\n",
              "      <td>1012021</td>\n",
              "      <td>1</td>\n",
              "      <td>21.2</td>\n",
              "      <td>47</td>\n",
              "      <td>1012.6</td>\n",
              "      <td>20</td>\n",
              "      <td>6</td>\n",
              "      <td>CORDOBA OBSERVATORIO</td>\n",
              "      <td>2021-01-01 01:00:00</td>\n",
              "    </tr>\n",
              "    <tr>\n",
              "      <th>2</th>\n",
              "      <td>1012021</td>\n",
              "      <td>2</td>\n",
              "      <td>20.7</td>\n",
              "      <td>49</td>\n",
              "      <td>1010.7</td>\n",
              "      <td>340</td>\n",
              "      <td>4</td>\n",
              "      <td>CORDOBA OBSERVATORIO</td>\n",
              "      <td>2021-01-01 02:00:00</td>\n",
              "    </tr>\n",
              "    <tr>\n",
              "      <th>3</th>\n",
              "      <td>1012021</td>\n",
              "      <td>3</td>\n",
              "      <td>19.4</td>\n",
              "      <td>55</td>\n",
              "      <td>1011.3</td>\n",
              "      <td>320</td>\n",
              "      <td>4</td>\n",
              "      <td>CORDOBA OBSERVATORIO</td>\n",
              "      <td>2021-01-01 03:00:00</td>\n",
              "    </tr>\n",
              "    <tr>\n",
              "      <th>4</th>\n",
              "      <td>1012021</td>\n",
              "      <td>4</td>\n",
              "      <td>19.6</td>\n",
              "      <td>53</td>\n",
              "      <td>1011.2</td>\n",
              "      <td>360</td>\n",
              "      <td>7</td>\n",
              "      <td>CORDOBA OBSERVATORIO</td>\n",
              "      <td>2021-01-01 04:00:00</td>\n",
              "    </tr>\n",
              "  </tbody>\n",
              "</table>\n",
              "</div>\n",
              "      <button class=\"colab-df-convert\" onclick=\"convertToInteractive('df-0471a485-a8db-4d9d-84de-35a89fbd34e0')\"\n",
              "              title=\"Convert this dataframe to an interactive table.\"\n",
              "              style=\"display:none;\">\n",
              "        \n",
              "  <svg xmlns=\"http://www.w3.org/2000/svg\" height=\"24px\"viewBox=\"0 0 24 24\"\n",
              "       width=\"24px\">\n",
              "    <path d=\"M0 0h24v24H0V0z\" fill=\"none\"/>\n",
              "    <path d=\"M18.56 5.44l.94 2.06.94-2.06 2.06-.94-2.06-.94-.94-2.06-.94 2.06-2.06.94zm-11 1L8.5 8.5l.94-2.06 2.06-.94-2.06-.94L8.5 2.5l-.94 2.06-2.06.94zm10 10l.94 2.06.94-2.06 2.06-.94-2.06-.94-.94-2.06-.94 2.06-2.06.94z\"/><path d=\"M17.41 7.96l-1.37-1.37c-.4-.4-.92-.59-1.43-.59-.52 0-1.04.2-1.43.59L10.3 9.45l-7.72 7.72c-.78.78-.78 2.05 0 2.83L4 21.41c.39.39.9.59 1.41.59.51 0 1.02-.2 1.41-.59l7.78-7.78 2.81-2.81c.8-.78.8-2.07 0-2.86zM5.41 20L4 18.59l7.72-7.72 1.47 1.35L5.41 20z\"/>\n",
              "  </svg>\n",
              "      </button>\n",
              "      \n",
              "  <style>\n",
              "    .colab-df-container {\n",
              "      display:flex;\n",
              "      flex-wrap:wrap;\n",
              "      gap: 12px;\n",
              "    }\n",
              "\n",
              "    .colab-df-convert {\n",
              "      background-color: #E8F0FE;\n",
              "      border: none;\n",
              "      border-radius: 50%;\n",
              "      cursor: pointer;\n",
              "      display: none;\n",
              "      fill: #1967D2;\n",
              "      height: 32px;\n",
              "      padding: 0 0 0 0;\n",
              "      width: 32px;\n",
              "    }\n",
              "\n",
              "    .colab-df-convert:hover {\n",
              "      background-color: #E2EBFA;\n",
              "      box-shadow: 0px 1px 2px rgba(60, 64, 67, 0.3), 0px 1px 3px 1px rgba(60, 64, 67, 0.15);\n",
              "      fill: #174EA6;\n",
              "    }\n",
              "\n",
              "    [theme=dark] .colab-df-convert {\n",
              "      background-color: #3B4455;\n",
              "      fill: #D2E3FC;\n",
              "    }\n",
              "\n",
              "    [theme=dark] .colab-df-convert:hover {\n",
              "      background-color: #434B5C;\n",
              "      box-shadow: 0px 1px 3px 1px rgba(0, 0, 0, 0.15);\n",
              "      filter: drop-shadow(0px 1px 2px rgba(0, 0, 0, 0.3));\n",
              "      fill: #FFFFFF;\n",
              "    }\n",
              "  </style>\n",
              "\n",
              "      <script>\n",
              "        const buttonEl =\n",
              "          document.querySelector('#df-0471a485-a8db-4d9d-84de-35a89fbd34e0 button.colab-df-convert');\n",
              "        buttonEl.style.display =\n",
              "          google.colab.kernel.accessAllowed ? 'block' : 'none';\n",
              "\n",
              "        async function convertToInteractive(key) {\n",
              "          const element = document.querySelector('#df-0471a485-a8db-4d9d-84de-35a89fbd34e0');\n",
              "          const dataTable =\n",
              "            await google.colab.kernel.invokeFunction('convertToInteractive',\n",
              "                                                     [key], {});\n",
              "          if (!dataTable) return;\n",
              "\n",
              "          const docLinkHtml = 'Like what you see? Visit the ' +\n",
              "            '<a target=\"_blank\" href=https://colab.research.google.com/notebooks/data_table.ipynb>data table notebook</a>'\n",
              "            + ' to learn more about interactive tables.';\n",
              "          element.innerHTML = '';\n",
              "          dataTable['output_type'] = 'display_data';\n",
              "          await google.colab.output.renderOutput(dataTable, element);\n",
              "          const docLink = document.createElement('div');\n",
              "          docLink.innerHTML = docLinkHtml;\n",
              "          element.appendChild(docLink);\n",
              "        }\n",
              "      </script>\n",
              "    </div>\n",
              "  </div>\n",
              "  "
            ]
          },
          "metadata": {},
          "execution_count": 24
        }
      ],
      "source": [
        "clima_df[:5]"
      ],
      "id": "O1VCt3ieD2YQ"
    },
    {
      "cell_type": "markdown",
      "metadata": {
        "id": "rkQZbQySB60I"
      },
      "source": [
        "Verificamos valores NULOS en TEMP"
      ],
      "id": "rkQZbQySB60I"
    },
    {
      "cell_type": "code",
      "execution_count": null,
      "metadata": {
        "colab": {
          "base_uri": "https://localhost:8080/"
        },
        "id": "_GqlaBYFB7qi",
        "outputId": "242ae2d9-83ec-4b93-f657-baacf24abeca"
      },
      "outputs": [
        {
          "output_type": "stream",
          "name": "stdout",
          "text": [
            "Cantidad de NULOS en columna \"TEMP\" :  FECHA         0\n",
            "HORA          0\n",
            "TEMP          0\n",
            "HUM           0\n",
            "PNM           0\n",
            "DD            0\n",
            "FF            0\n",
            "NOMBRE        0\n",
            "FECHA_HORA    0\n",
            "dtype: int64\n"
          ]
        }
      ],
      "source": [
        "print('Cantidad de NULOS en columna \"TEMP\" : ', clima_df.isnull().sum())"
      ],
      "id": "_GqlaBYFB7qi"
    },
    {
      "cell_type": "markdown",
      "metadata": {
        "id": "DGnGWKXyCsgg"
      },
      "source": [
        "Verificamos faltantes de informacion"
      ],
      "id": "DGnGWKXyCsgg"
    },
    {
      "cell_type": "code",
      "execution_count": null,
      "metadata": {
        "colab": {
          "base_uri": "https://localhost:8080/"
        },
        "id": "RBxDA-_6CuGY",
        "outputId": "974083f5-e887-4c1d-e282-deee949d7358"
      },
      "outputs": [
        {
          "output_type": "stream",
          "name": "stdout",
          "text": [
            "Registros faltantes:  DatetimeIndex(['2021-01-26 18:00:00', '2021-02-06 00:00:00',\n",
            "               '2021-02-06 01:00:00', '2021-02-06 02:00:00',\n",
            "               '2021-02-06 03:00:00', '2021-02-06 04:00:00',\n",
            "               '2021-02-06 05:00:00', '2021-02-06 06:00:00',\n",
            "               '2021-02-06 07:00:00', '2021-02-06 08:00:00',\n",
            "               '2021-02-06 09:00:00', '2021-02-06 10:00:00',\n",
            "               '2021-02-06 11:00:00', '2021-02-06 12:00:00',\n",
            "               '2021-02-06 13:00:00', '2021-02-06 14:00:00',\n",
            "               '2021-02-06 15:00:00', '2021-02-06 16:00:00',\n",
            "               '2021-02-06 17:00:00', '2021-02-06 18:00:00',\n",
            "               '2021-02-06 19:00:00', '2021-02-06 20:00:00',\n",
            "               '2021-02-06 21:00:00', '2021-02-06 22:00:00',\n",
            "               '2021-02-06 23:00:00', '2021-06-12 15:00:00',\n",
            "               '2021-07-31 19:00:00', '2021-08-22 23:00:00',\n",
            "               '2021-09-08 00:00:00', '2021-10-24 23:00:00',\n",
            "               '2021-11-23 17:00:00'],\n",
            "              dtype='datetime64[ns]', freq=None)\n"
          ]
        }
      ],
      "source": [
        "clima_df.set_index('FECHA_HORA',drop=True,inplace=True)\n",
        "#df.index = pd.to_datetime(df.index, format = '%Y-%m-%d %H:%M:%S')\n",
        "idx = pd.date_range(clima_df.index.min(), clima_df.index.max(), freq='H')\n",
        "print('Registros faltantes: ',idx.difference(clima_df.index))"
      ],
      "id": "RBxDA-_6CuGY"
    },
    {
      "cell_type": "code",
      "execution_count": null,
      "metadata": {
        "id": "6oCDtNw4Ga-p"
      },
      "outputs": [],
      "source": [
        "clima_df['FECHA_HORA'] = clima_df.index\n",
        "clima_df.reset_index(drop=True,inplace=True)"
      ],
      "id": "6oCDtNw4Ga-p"
    },
    {
      "cell_type": "code",
      "execution_count": null,
      "metadata": {
        "colab": {
          "base_uri": "https://localhost:8080/",
          "height": 143
        },
        "id": "SLegXye6FcAH",
        "outputId": "834b095e-d065-4061-a460-a06ac84cd5c5"
      },
      "outputs": [
        {
          "output_type": "execute_result",
          "data": {
            "text/plain": [
              "             FECHA_HORA  TEMP  HUM       PNM   DD  FF    FECHA  HORA\n",
              "886 2021-02-05 23:00:00  22.0   61    1014.1  360   7  5022021    23\n",
              "887 2021-02-05 23:00:00  22.0   61    1014.1  360   7  6022021    23\n",
              "888 2021-02-07 00:00:00  22.9   66    1011.9  360   7  7022021     0"
            ],
            "text/html": [
              "\n",
              "  <div id=\"df-cb10d53e-5b35-4b1c-8192-6b1691349afa\">\n",
              "    <div class=\"colab-df-container\">\n",
              "      <div>\n",
              "<style scoped>\n",
              "    .dataframe tbody tr th:only-of-type {\n",
              "        vertical-align: middle;\n",
              "    }\n",
              "\n",
              "    .dataframe tbody tr th {\n",
              "        vertical-align: top;\n",
              "    }\n",
              "\n",
              "    .dataframe thead th {\n",
              "        text-align: right;\n",
              "    }\n",
              "</style>\n",
              "<table border=\"1\" class=\"dataframe\">\n",
              "  <thead>\n",
              "    <tr style=\"text-align: right;\">\n",
              "      <th></th>\n",
              "      <th>FECHA_HORA</th>\n",
              "      <th>TEMP</th>\n",
              "      <th>HUM</th>\n",
              "      <th>PNM</th>\n",
              "      <th>DD</th>\n",
              "      <th>FF</th>\n",
              "      <th>FECHA</th>\n",
              "      <th>HORA</th>\n",
              "    </tr>\n",
              "  </thead>\n",
              "  <tbody>\n",
              "    <tr>\n",
              "      <th>886</th>\n",
              "      <td>2021-02-05 23:00:00</td>\n",
              "      <td>22.0</td>\n",
              "      <td>61</td>\n",
              "      <td>1014.1</td>\n",
              "      <td>360</td>\n",
              "      <td>7</td>\n",
              "      <td>5022021</td>\n",
              "      <td>23</td>\n",
              "    </tr>\n",
              "    <tr>\n",
              "      <th>887</th>\n",
              "      <td>2021-02-05 23:00:00</td>\n",
              "      <td>22.0</td>\n",
              "      <td>61</td>\n",
              "      <td>1014.1</td>\n",
              "      <td>360</td>\n",
              "      <td>7</td>\n",
              "      <td>6022021</td>\n",
              "      <td>23</td>\n",
              "    </tr>\n",
              "    <tr>\n",
              "      <th>888</th>\n",
              "      <td>2021-02-07 00:00:00</td>\n",
              "      <td>22.9</td>\n",
              "      <td>66</td>\n",
              "      <td>1011.9</td>\n",
              "      <td>360</td>\n",
              "      <td>7</td>\n",
              "      <td>7022021</td>\n",
              "      <td>0</td>\n",
              "    </tr>\n",
              "  </tbody>\n",
              "</table>\n",
              "</div>\n",
              "      <button class=\"colab-df-convert\" onclick=\"convertToInteractive('df-cb10d53e-5b35-4b1c-8192-6b1691349afa')\"\n",
              "              title=\"Convert this dataframe to an interactive table.\"\n",
              "              style=\"display:none;\">\n",
              "        \n",
              "  <svg xmlns=\"http://www.w3.org/2000/svg\" height=\"24px\"viewBox=\"0 0 24 24\"\n",
              "       width=\"24px\">\n",
              "    <path d=\"M0 0h24v24H0V0z\" fill=\"none\"/>\n",
              "    <path d=\"M18.56 5.44l.94 2.06.94-2.06 2.06-.94-2.06-.94-.94-2.06-.94 2.06-2.06.94zm-11 1L8.5 8.5l.94-2.06 2.06-.94-2.06-.94L8.5 2.5l-.94 2.06-2.06.94zm10 10l.94 2.06.94-2.06 2.06-.94-2.06-.94-.94-2.06-.94 2.06-2.06.94z\"/><path d=\"M17.41 7.96l-1.37-1.37c-.4-.4-.92-.59-1.43-.59-.52 0-1.04.2-1.43.59L10.3 9.45l-7.72 7.72c-.78.78-.78 2.05 0 2.83L4 21.41c.39.39.9.59 1.41.59.51 0 1.02-.2 1.41-.59l7.78-7.78 2.81-2.81c.8-.78.8-2.07 0-2.86zM5.41 20L4 18.59l7.72-7.72 1.47 1.35L5.41 20z\"/>\n",
              "  </svg>\n",
              "      </button>\n",
              "      \n",
              "  <style>\n",
              "    .colab-df-container {\n",
              "      display:flex;\n",
              "      flex-wrap:wrap;\n",
              "      gap: 12px;\n",
              "    }\n",
              "\n",
              "    .colab-df-convert {\n",
              "      background-color: #E8F0FE;\n",
              "      border: none;\n",
              "      border-radius: 50%;\n",
              "      cursor: pointer;\n",
              "      display: none;\n",
              "      fill: #1967D2;\n",
              "      height: 32px;\n",
              "      padding: 0 0 0 0;\n",
              "      width: 32px;\n",
              "    }\n",
              "\n",
              "    .colab-df-convert:hover {\n",
              "      background-color: #E2EBFA;\n",
              "      box-shadow: 0px 1px 2px rgba(60, 64, 67, 0.3), 0px 1px 3px 1px rgba(60, 64, 67, 0.15);\n",
              "      fill: #174EA6;\n",
              "    }\n",
              "\n",
              "    [theme=dark] .colab-df-convert {\n",
              "      background-color: #3B4455;\n",
              "      fill: #D2E3FC;\n",
              "    }\n",
              "\n",
              "    [theme=dark] .colab-df-convert:hover {\n",
              "      background-color: #434B5C;\n",
              "      box-shadow: 0px 1px 3px 1px rgba(0, 0, 0, 0.15);\n",
              "      filter: drop-shadow(0px 1px 2px rgba(0, 0, 0, 0.3));\n",
              "      fill: #FFFFFF;\n",
              "    }\n",
              "  </style>\n",
              "\n",
              "      <script>\n",
              "        const buttonEl =\n",
              "          document.querySelector('#df-cb10d53e-5b35-4b1c-8192-6b1691349afa button.colab-df-convert');\n",
              "        buttonEl.style.display =\n",
              "          google.colab.kernel.accessAllowed ? 'block' : 'none';\n",
              "\n",
              "        async function convertToInteractive(key) {\n",
              "          const element = document.querySelector('#df-cb10d53e-5b35-4b1c-8192-6b1691349afa');\n",
              "          const dataTable =\n",
              "            await google.colab.kernel.invokeFunction('convertToInteractive',\n",
              "                                                     [key], {});\n",
              "          if (!dataTable) return;\n",
              "\n",
              "          const docLinkHtml = 'Like what you see? Visit the ' +\n",
              "            '<a target=\"_blank\" href=https://colab.research.google.com/notebooks/data_table.ipynb>data table notebook</a>'\n",
              "            + ' to learn more about interactive tables.';\n",
              "          element.innerHTML = '';\n",
              "          dataTable['output_type'] = 'display_data';\n",
              "          await google.colab.output.renderOutput(dataTable, element);\n",
              "          const docLink = document.createElement('div');\n",
              "          docLink.innerHTML = docLinkHtml;\n",
              "          element.appendChild(docLink);\n",
              "        }\n",
              "      </script>\n",
              "    </div>\n",
              "  </div>\n",
              "  "
            ]
          },
          "metadata": {},
          "execution_count": 28
        }
      ],
      "source": [
        "mask = ((clima_df[\"FECHA_HORA\"] >= '2021-02-05 23:00:00') & (clima_df[\"FECHA_HORA\"] <= '2021-02-07 00:00:00'))\n",
        "clima_df[['FECHA_HORA','TEMP', 'HUM', 'PNM', 'DD', 'FF', 'FECHA','HORA']].loc[mask]"
      ],
      "id": "SLegXye6FcAH"
    },
    {
      "cell_type": "markdown",
      "metadata": {
        "id": "8b86e5cc-37e3-4910-b950-3e6518737bb1"
      },
      "source": [
        "## Unión por la hora más próxima"
      ],
      "id": "8b86e5cc-37e3-4910-b950-3e6518737bb1"
    },
    {
      "cell_type": "code",
      "execution_count": null,
      "metadata": {
        "id": "1c536bdf-b849-4754-b2ec-5b69667a6381"
      },
      "outputs": [],
      "source": [
        "# Unimos los datasets usando 15 seg como toleracia máxima para encontrar un valor próximo. \n",
        "# Esto es porque el instrumento toma 5 registros por minuto, por lo tanto el valor más cercado\n",
        "# debería estar cerca de los 13 seg de la hora en punto, y con ello evitamos unir en otros registros.\n",
        "\n",
        "merged_df = pd.merge_asof(\n",
        "    toma_df, \n",
        "    clima_df, \n",
        "    on=\"FECHA_HORA\", \n",
        "    direction='backward', \n",
        "    tolerance=pd.Timedelta(\"15sec\")\n",
        ")"
      ],
      "id": "1c536bdf-b849-4754-b2ec-5b69667a6381"
    },
    {
      "cell_type": "code",
      "execution_count": null,
      "metadata": {
        "colab": {
          "base_uri": "https://localhost:8080/",
          "height": 363
        },
        "id": "afee4b23-0bfa-40a0-83b3-4095b8bf73d1",
        "outputId": "064d1e58-82bc-4b37-c290-23279c656783"
      },
      "outputs": [
        {
          "output_type": "execute_result",
          "data": {
            "text/plain": [
              "           FECHA_HORA  Active_Energy_Delivered  TEMP   HUM       PNM    DD  \\\n",
              "0 2021-01-01 00:00:00                119490.08  21.0  51.0    1012.9  50.0   \n",
              "1 2021-01-01 00:01:00                119490.14   NaN   NaN       NaN   NaN   \n",
              "2 2021-01-01 00:02:00                119490.23   NaN   NaN       NaN   NaN   \n",
              "3 2021-01-01 00:03:00                119490.29   NaN   NaN       NaN   NaN   \n",
              "4 2021-01-01 00:04:00                119490.36   NaN   NaN       NaN   NaN   \n",
              "5 2021-01-01 00:05:00                119490.45   NaN   NaN       NaN   NaN   \n",
              "6 2021-01-01 00:06:00                119490.51   NaN   NaN       NaN   NaN   \n",
              "7 2021-01-01 00:07:00                119490.59   NaN   NaN       NaN   NaN   \n",
              "8 2021-01-01 00:08:00                119490.68   NaN   NaN       NaN   NaN   \n",
              "9 2021-01-01 00:09:00                119490.74   NaN   NaN       NaN   NaN   \n",
              "\n",
              "    FF  \n",
              "0  6.0  \n",
              "1  NaN  \n",
              "2  NaN  \n",
              "3  NaN  \n",
              "4  NaN  \n",
              "5  NaN  \n",
              "6  NaN  \n",
              "7  NaN  \n",
              "8  NaN  \n",
              "9  NaN  "
            ],
            "text/html": [
              "\n",
              "  <div id=\"df-9a5c9321-4803-4768-8cfb-63e2484f86f3\">\n",
              "    <div class=\"colab-df-container\">\n",
              "      <div>\n",
              "<style scoped>\n",
              "    .dataframe tbody tr th:only-of-type {\n",
              "        vertical-align: middle;\n",
              "    }\n",
              "\n",
              "    .dataframe tbody tr th {\n",
              "        vertical-align: top;\n",
              "    }\n",
              "\n",
              "    .dataframe thead th {\n",
              "        text-align: right;\n",
              "    }\n",
              "</style>\n",
              "<table border=\"1\" class=\"dataframe\">\n",
              "  <thead>\n",
              "    <tr style=\"text-align: right;\">\n",
              "      <th></th>\n",
              "      <th>FECHA_HORA</th>\n",
              "      <th>Active_Energy_Delivered</th>\n",
              "      <th>TEMP</th>\n",
              "      <th>HUM</th>\n",
              "      <th>PNM</th>\n",
              "      <th>DD</th>\n",
              "      <th>FF</th>\n",
              "    </tr>\n",
              "  </thead>\n",
              "  <tbody>\n",
              "    <tr>\n",
              "      <th>0</th>\n",
              "      <td>2021-01-01 00:00:00</td>\n",
              "      <td>119490.08</td>\n",
              "      <td>21.0</td>\n",
              "      <td>51.0</td>\n",
              "      <td>1012.9</td>\n",
              "      <td>50.0</td>\n",
              "      <td>6.0</td>\n",
              "    </tr>\n",
              "    <tr>\n",
              "      <th>1</th>\n",
              "      <td>2021-01-01 00:01:00</td>\n",
              "      <td>119490.14</td>\n",
              "      <td>NaN</td>\n",
              "      <td>NaN</td>\n",
              "      <td>NaN</td>\n",
              "      <td>NaN</td>\n",
              "      <td>NaN</td>\n",
              "    </tr>\n",
              "    <tr>\n",
              "      <th>2</th>\n",
              "      <td>2021-01-01 00:02:00</td>\n",
              "      <td>119490.23</td>\n",
              "      <td>NaN</td>\n",
              "      <td>NaN</td>\n",
              "      <td>NaN</td>\n",
              "      <td>NaN</td>\n",
              "      <td>NaN</td>\n",
              "    </tr>\n",
              "    <tr>\n",
              "      <th>3</th>\n",
              "      <td>2021-01-01 00:03:00</td>\n",
              "      <td>119490.29</td>\n",
              "      <td>NaN</td>\n",
              "      <td>NaN</td>\n",
              "      <td>NaN</td>\n",
              "      <td>NaN</td>\n",
              "      <td>NaN</td>\n",
              "    </tr>\n",
              "    <tr>\n",
              "      <th>4</th>\n",
              "      <td>2021-01-01 00:04:00</td>\n",
              "      <td>119490.36</td>\n",
              "      <td>NaN</td>\n",
              "      <td>NaN</td>\n",
              "      <td>NaN</td>\n",
              "      <td>NaN</td>\n",
              "      <td>NaN</td>\n",
              "    </tr>\n",
              "    <tr>\n",
              "      <th>5</th>\n",
              "      <td>2021-01-01 00:05:00</td>\n",
              "      <td>119490.45</td>\n",
              "      <td>NaN</td>\n",
              "      <td>NaN</td>\n",
              "      <td>NaN</td>\n",
              "      <td>NaN</td>\n",
              "      <td>NaN</td>\n",
              "    </tr>\n",
              "    <tr>\n",
              "      <th>6</th>\n",
              "      <td>2021-01-01 00:06:00</td>\n",
              "      <td>119490.51</td>\n",
              "      <td>NaN</td>\n",
              "      <td>NaN</td>\n",
              "      <td>NaN</td>\n",
              "      <td>NaN</td>\n",
              "      <td>NaN</td>\n",
              "    </tr>\n",
              "    <tr>\n",
              "      <th>7</th>\n",
              "      <td>2021-01-01 00:07:00</td>\n",
              "      <td>119490.59</td>\n",
              "      <td>NaN</td>\n",
              "      <td>NaN</td>\n",
              "      <td>NaN</td>\n",
              "      <td>NaN</td>\n",
              "      <td>NaN</td>\n",
              "    </tr>\n",
              "    <tr>\n",
              "      <th>8</th>\n",
              "      <td>2021-01-01 00:08:00</td>\n",
              "      <td>119490.68</td>\n",
              "      <td>NaN</td>\n",
              "      <td>NaN</td>\n",
              "      <td>NaN</td>\n",
              "      <td>NaN</td>\n",
              "      <td>NaN</td>\n",
              "    </tr>\n",
              "    <tr>\n",
              "      <th>9</th>\n",
              "      <td>2021-01-01 00:09:00</td>\n",
              "      <td>119490.74</td>\n",
              "      <td>NaN</td>\n",
              "      <td>NaN</td>\n",
              "      <td>NaN</td>\n",
              "      <td>NaN</td>\n",
              "      <td>NaN</td>\n",
              "    </tr>\n",
              "  </tbody>\n",
              "</table>\n",
              "</div>\n",
              "      <button class=\"colab-df-convert\" onclick=\"convertToInteractive('df-9a5c9321-4803-4768-8cfb-63e2484f86f3')\"\n",
              "              title=\"Convert this dataframe to an interactive table.\"\n",
              "              style=\"display:none;\">\n",
              "        \n",
              "  <svg xmlns=\"http://www.w3.org/2000/svg\" height=\"24px\"viewBox=\"0 0 24 24\"\n",
              "       width=\"24px\">\n",
              "    <path d=\"M0 0h24v24H0V0z\" fill=\"none\"/>\n",
              "    <path d=\"M18.56 5.44l.94 2.06.94-2.06 2.06-.94-2.06-.94-.94-2.06-.94 2.06-2.06.94zm-11 1L8.5 8.5l.94-2.06 2.06-.94-2.06-.94L8.5 2.5l-.94 2.06-2.06.94zm10 10l.94 2.06.94-2.06 2.06-.94-2.06-.94-.94-2.06-.94 2.06-2.06.94z\"/><path d=\"M17.41 7.96l-1.37-1.37c-.4-.4-.92-.59-1.43-.59-.52 0-1.04.2-1.43.59L10.3 9.45l-7.72 7.72c-.78.78-.78 2.05 0 2.83L4 21.41c.39.39.9.59 1.41.59.51 0 1.02-.2 1.41-.59l7.78-7.78 2.81-2.81c.8-.78.8-2.07 0-2.86zM5.41 20L4 18.59l7.72-7.72 1.47 1.35L5.41 20z\"/>\n",
              "  </svg>\n",
              "      </button>\n",
              "      \n",
              "  <style>\n",
              "    .colab-df-container {\n",
              "      display:flex;\n",
              "      flex-wrap:wrap;\n",
              "      gap: 12px;\n",
              "    }\n",
              "\n",
              "    .colab-df-convert {\n",
              "      background-color: #E8F0FE;\n",
              "      border: none;\n",
              "      border-radius: 50%;\n",
              "      cursor: pointer;\n",
              "      display: none;\n",
              "      fill: #1967D2;\n",
              "      height: 32px;\n",
              "      padding: 0 0 0 0;\n",
              "      width: 32px;\n",
              "    }\n",
              "\n",
              "    .colab-df-convert:hover {\n",
              "      background-color: #E2EBFA;\n",
              "      box-shadow: 0px 1px 2px rgba(60, 64, 67, 0.3), 0px 1px 3px 1px rgba(60, 64, 67, 0.15);\n",
              "      fill: #174EA6;\n",
              "    }\n",
              "\n",
              "    [theme=dark] .colab-df-convert {\n",
              "      background-color: #3B4455;\n",
              "      fill: #D2E3FC;\n",
              "    }\n",
              "\n",
              "    [theme=dark] .colab-df-convert:hover {\n",
              "      background-color: #434B5C;\n",
              "      box-shadow: 0px 1px 3px 1px rgba(0, 0, 0, 0.15);\n",
              "      filter: drop-shadow(0px 1px 2px rgba(0, 0, 0, 0.3));\n",
              "      fill: #FFFFFF;\n",
              "    }\n",
              "  </style>\n",
              "\n",
              "      <script>\n",
              "        const buttonEl =\n",
              "          document.querySelector('#df-9a5c9321-4803-4768-8cfb-63e2484f86f3 button.colab-df-convert');\n",
              "        buttonEl.style.display =\n",
              "          google.colab.kernel.accessAllowed ? 'block' : 'none';\n",
              "\n",
              "        async function convertToInteractive(key) {\n",
              "          const element = document.querySelector('#df-9a5c9321-4803-4768-8cfb-63e2484f86f3');\n",
              "          const dataTable =\n",
              "            await google.colab.kernel.invokeFunction('convertToInteractive',\n",
              "                                                     [key], {});\n",
              "          if (!dataTable) return;\n",
              "\n",
              "          const docLinkHtml = 'Like what you see? Visit the ' +\n",
              "            '<a target=\"_blank\" href=https://colab.research.google.com/notebooks/data_table.ipynb>data table notebook</a>'\n",
              "            + ' to learn more about interactive tables.';\n",
              "          element.innerHTML = '';\n",
              "          dataTable['output_type'] = 'display_data';\n",
              "          await google.colab.output.renderOutput(dataTable, element);\n",
              "          const docLink = document.createElement('div');\n",
              "          docLink.innerHTML = docLinkHtml;\n",
              "          element.appendChild(docLink);\n",
              "        }\n",
              "      </script>\n",
              "    </div>\n",
              "  </div>\n",
              "  "
            ]
          },
          "metadata": {},
          "execution_count": 30
        }
      ],
      "source": [
        "merged_df[['FECHA_HORA','Active_Energy_Delivered','TEMP', 'HUM', 'PNM', 'DD', 'FF']].head(10)"
      ],
      "id": "afee4b23-0bfa-40a0-83b3-4095b8bf73d1"
    },
    {
      "cell_type": "markdown",
      "metadata": {
        "id": "406b29bc-fe13-40ac-8a16-f845760d6065"
      },
      "source": [
        "Comprobamos que el merge se hizo en los registros más cercanos a la hora en punto en distintas horas"
      ],
      "id": "406b29bc-fe13-40ac-8a16-f845760d6065"
    },
    {
      "cell_type": "code",
      "execution_count": null,
      "metadata": {
        "colab": {
          "base_uri": "https://localhost:8080/"
        },
        "id": "58232ad0-cddc-48cb-bedf-e302b7f9f6d0",
        "outputId": "4f99719f-8cea-4f05-ae23-c310956626f8"
      },
      "outputs": [
        {
          "output_type": "stream",
          "name": "stdout",
          "text": [
            "Primer datapoint tomado el 2021-01-01 00:00:00\n",
            "Último datapoint tomado el 2021-12-31 23:59:00\n"
          ]
        }
      ],
      "source": [
        "print(\"Primer datapoint tomado el {}\".format(merged_df[\"FECHA_HORA\"].min()))\n",
        "print(\"Último datapoint tomado el {}\".format(merged_df[\"FECHA_HORA\"].max()))"
      ],
      "id": "58232ad0-cddc-48cb-bedf-e302b7f9f6d0"
    },
    {
      "cell_type": "code",
      "execution_count": null,
      "metadata": {
        "colab": {
          "base_uri": "https://localhost:8080/",
          "height": 424
        },
        "id": "95e975c5-66c7-4450-a15d-cad32721595b",
        "outputId": "2c0f285a-4d1e-4487-bfcc-c642f90a18b9"
      },
      "outputs": [
        {
          "output_type": "execute_result",
          "data": {
            "text/plain": [
              "                FECHA_HORA  TEMP  HUM  PNM  DD  FF\n",
              "1      2021-01-01 00:01:00   NaN  NaN  NaN NaN NaN\n",
              "2      2021-01-01 00:02:00   NaN  NaN  NaN NaN NaN\n",
              "3      2021-01-01 00:03:00   NaN  NaN  NaN NaN NaN\n",
              "4      2021-01-01 00:04:00   NaN  NaN  NaN NaN NaN\n",
              "5      2021-01-01 00:05:00   NaN  NaN  NaN NaN NaN\n",
              "...                    ...   ...  ...  ...  ..  ..\n",
              "525595 2021-12-31 23:55:00   NaN  NaN  NaN NaN NaN\n",
              "525596 2021-12-31 23:56:00   NaN  NaN  NaN NaN NaN\n",
              "525597 2021-12-31 23:57:00   NaN  NaN  NaN NaN NaN\n",
              "525598 2021-12-31 23:58:00   NaN  NaN  NaN NaN NaN\n",
              "525599 2021-12-31 23:59:00   NaN  NaN  NaN NaN NaN\n",
              "\n",
              "[525599 rows x 6 columns]"
            ],
            "text/html": [
              "\n",
              "  <div id=\"df-60dfce93-8000-43de-8fad-139a379018a1\">\n",
              "    <div class=\"colab-df-container\">\n",
              "      <div>\n",
              "<style scoped>\n",
              "    .dataframe tbody tr th:only-of-type {\n",
              "        vertical-align: middle;\n",
              "    }\n",
              "\n",
              "    .dataframe tbody tr th {\n",
              "        vertical-align: top;\n",
              "    }\n",
              "\n",
              "    .dataframe thead th {\n",
              "        text-align: right;\n",
              "    }\n",
              "</style>\n",
              "<table border=\"1\" class=\"dataframe\">\n",
              "  <thead>\n",
              "    <tr style=\"text-align: right;\">\n",
              "      <th></th>\n",
              "      <th>FECHA_HORA</th>\n",
              "      <th>TEMP</th>\n",
              "      <th>HUM</th>\n",
              "      <th>PNM</th>\n",
              "      <th>DD</th>\n",
              "      <th>FF</th>\n",
              "    </tr>\n",
              "  </thead>\n",
              "  <tbody>\n",
              "    <tr>\n",
              "      <th>1</th>\n",
              "      <td>2021-01-01 00:01:00</td>\n",
              "      <td>NaN</td>\n",
              "      <td>NaN</td>\n",
              "      <td>NaN</td>\n",
              "      <td>NaN</td>\n",
              "      <td>NaN</td>\n",
              "    </tr>\n",
              "    <tr>\n",
              "      <th>2</th>\n",
              "      <td>2021-01-01 00:02:00</td>\n",
              "      <td>NaN</td>\n",
              "      <td>NaN</td>\n",
              "      <td>NaN</td>\n",
              "      <td>NaN</td>\n",
              "      <td>NaN</td>\n",
              "    </tr>\n",
              "    <tr>\n",
              "      <th>3</th>\n",
              "      <td>2021-01-01 00:03:00</td>\n",
              "      <td>NaN</td>\n",
              "      <td>NaN</td>\n",
              "      <td>NaN</td>\n",
              "      <td>NaN</td>\n",
              "      <td>NaN</td>\n",
              "    </tr>\n",
              "    <tr>\n",
              "      <th>4</th>\n",
              "      <td>2021-01-01 00:04:00</td>\n",
              "      <td>NaN</td>\n",
              "      <td>NaN</td>\n",
              "      <td>NaN</td>\n",
              "      <td>NaN</td>\n",
              "      <td>NaN</td>\n",
              "    </tr>\n",
              "    <tr>\n",
              "      <th>5</th>\n",
              "      <td>2021-01-01 00:05:00</td>\n",
              "      <td>NaN</td>\n",
              "      <td>NaN</td>\n",
              "      <td>NaN</td>\n",
              "      <td>NaN</td>\n",
              "      <td>NaN</td>\n",
              "    </tr>\n",
              "    <tr>\n",
              "      <th>...</th>\n",
              "      <td>...</td>\n",
              "      <td>...</td>\n",
              "      <td>...</td>\n",
              "      <td>...</td>\n",
              "      <td>...</td>\n",
              "      <td>...</td>\n",
              "    </tr>\n",
              "    <tr>\n",
              "      <th>525595</th>\n",
              "      <td>2021-12-31 23:55:00</td>\n",
              "      <td>NaN</td>\n",
              "      <td>NaN</td>\n",
              "      <td>NaN</td>\n",
              "      <td>NaN</td>\n",
              "      <td>NaN</td>\n",
              "    </tr>\n",
              "    <tr>\n",
              "      <th>525596</th>\n",
              "      <td>2021-12-31 23:56:00</td>\n",
              "      <td>NaN</td>\n",
              "      <td>NaN</td>\n",
              "      <td>NaN</td>\n",
              "      <td>NaN</td>\n",
              "      <td>NaN</td>\n",
              "    </tr>\n",
              "    <tr>\n",
              "      <th>525597</th>\n",
              "      <td>2021-12-31 23:57:00</td>\n",
              "      <td>NaN</td>\n",
              "      <td>NaN</td>\n",
              "      <td>NaN</td>\n",
              "      <td>NaN</td>\n",
              "      <td>NaN</td>\n",
              "    </tr>\n",
              "    <tr>\n",
              "      <th>525598</th>\n",
              "      <td>2021-12-31 23:58:00</td>\n",
              "      <td>NaN</td>\n",
              "      <td>NaN</td>\n",
              "      <td>NaN</td>\n",
              "      <td>NaN</td>\n",
              "      <td>NaN</td>\n",
              "    </tr>\n",
              "    <tr>\n",
              "      <th>525599</th>\n",
              "      <td>2021-12-31 23:59:00</td>\n",
              "      <td>NaN</td>\n",
              "      <td>NaN</td>\n",
              "      <td>NaN</td>\n",
              "      <td>NaN</td>\n",
              "      <td>NaN</td>\n",
              "    </tr>\n",
              "  </tbody>\n",
              "</table>\n",
              "<p>525599 rows × 6 columns</p>\n",
              "</div>\n",
              "      <button class=\"colab-df-convert\" onclick=\"convertToInteractive('df-60dfce93-8000-43de-8fad-139a379018a1')\"\n",
              "              title=\"Convert this dataframe to an interactive table.\"\n",
              "              style=\"display:none;\">\n",
              "        \n",
              "  <svg xmlns=\"http://www.w3.org/2000/svg\" height=\"24px\"viewBox=\"0 0 24 24\"\n",
              "       width=\"24px\">\n",
              "    <path d=\"M0 0h24v24H0V0z\" fill=\"none\"/>\n",
              "    <path d=\"M18.56 5.44l.94 2.06.94-2.06 2.06-.94-2.06-.94-.94-2.06-.94 2.06-2.06.94zm-11 1L8.5 8.5l.94-2.06 2.06-.94-2.06-.94L8.5 2.5l-.94 2.06-2.06.94zm10 10l.94 2.06.94-2.06 2.06-.94-2.06-.94-.94-2.06-.94 2.06-2.06.94z\"/><path d=\"M17.41 7.96l-1.37-1.37c-.4-.4-.92-.59-1.43-.59-.52 0-1.04.2-1.43.59L10.3 9.45l-7.72 7.72c-.78.78-.78 2.05 0 2.83L4 21.41c.39.39.9.59 1.41.59.51 0 1.02-.2 1.41-.59l7.78-7.78 2.81-2.81c.8-.78.8-2.07 0-2.86zM5.41 20L4 18.59l7.72-7.72 1.47 1.35L5.41 20z\"/>\n",
              "  </svg>\n",
              "      </button>\n",
              "      \n",
              "  <style>\n",
              "    .colab-df-container {\n",
              "      display:flex;\n",
              "      flex-wrap:wrap;\n",
              "      gap: 12px;\n",
              "    }\n",
              "\n",
              "    .colab-df-convert {\n",
              "      background-color: #E8F0FE;\n",
              "      border: none;\n",
              "      border-radius: 50%;\n",
              "      cursor: pointer;\n",
              "      display: none;\n",
              "      fill: #1967D2;\n",
              "      height: 32px;\n",
              "      padding: 0 0 0 0;\n",
              "      width: 32px;\n",
              "    }\n",
              "\n",
              "    .colab-df-convert:hover {\n",
              "      background-color: #E2EBFA;\n",
              "      box-shadow: 0px 1px 2px rgba(60, 64, 67, 0.3), 0px 1px 3px 1px rgba(60, 64, 67, 0.15);\n",
              "      fill: #174EA6;\n",
              "    }\n",
              "\n",
              "    [theme=dark] .colab-df-convert {\n",
              "      background-color: #3B4455;\n",
              "      fill: #D2E3FC;\n",
              "    }\n",
              "\n",
              "    [theme=dark] .colab-df-convert:hover {\n",
              "      background-color: #434B5C;\n",
              "      box-shadow: 0px 1px 3px 1px rgba(0, 0, 0, 0.15);\n",
              "      filter: drop-shadow(0px 1px 2px rgba(0, 0, 0, 0.3));\n",
              "      fill: #FFFFFF;\n",
              "    }\n",
              "  </style>\n",
              "\n",
              "      <script>\n",
              "        const buttonEl =\n",
              "          document.querySelector('#df-60dfce93-8000-43de-8fad-139a379018a1 button.colab-df-convert');\n",
              "        buttonEl.style.display =\n",
              "          google.colab.kernel.accessAllowed ? 'block' : 'none';\n",
              "\n",
              "        async function convertToInteractive(key) {\n",
              "          const element = document.querySelector('#df-60dfce93-8000-43de-8fad-139a379018a1');\n",
              "          const dataTable =\n",
              "            await google.colab.kernel.invokeFunction('convertToInteractive',\n",
              "                                                     [key], {});\n",
              "          if (!dataTable) return;\n",
              "\n",
              "          const docLinkHtml = 'Like what you see? Visit the ' +\n",
              "            '<a target=\"_blank\" href=https://colab.research.google.com/notebooks/data_table.ipynb>data table notebook</a>'\n",
              "            + ' to learn more about interactive tables.';\n",
              "          element.innerHTML = '';\n",
              "          dataTable['output_type'] = 'display_data';\n",
              "          await google.colab.output.renderOutput(dataTable, element);\n",
              "          const docLink = document.createElement('div');\n",
              "          docLink.innerHTML = docLinkHtml;\n",
              "          element.appendChild(docLink);\n",
              "        }\n",
              "      </script>\n",
              "    </div>\n",
              "  </div>\n",
              "  "
            ]
          },
          "metadata": {},
          "execution_count": 32
        }
      ],
      "source": [
        "mask = ((merged_df[\"FECHA_HORA\"] > '2021-01-01 00:00:00') & (merged_df[\"FECHA_HORA\"] < '2021-12-31 23:59:59'))\n",
        "merged_df[['FECHA_HORA','TEMP', 'HUM', 'PNM', 'DD', 'FF']].loc[mask]"
      ],
      "id": "95e975c5-66c7-4450-a15d-cad32721595b"
    },
    {
      "cell_type": "markdown",
      "metadata": {
        "id": "5c2e14da-4e49-4f71-be78-a31712317df5"
      },
      "source": [
        "Podemos ver en los ejemplos de arriba que el registro más próximo a la hora en punto tiene el dato de la temperatura provisto por el SMN."
      ],
      "id": "5c2e14da-4e49-4f71-be78-a31712317df5"
    },
    {
      "cell_type": "markdown",
      "metadata": {
        "id": "2786ef79-c7f0-49d2-838a-201f9cf89179"
      },
      "source": [
        "## Interpolación"
      ],
      "id": "2786ef79-c7f0-49d2-838a-201f9cf89179"
    },
    {
      "cell_type": "code",
      "execution_count": null,
      "metadata": {
        "id": "011fbb05-28cd-4085-ad8c-67709137193e"
      },
      "outputs": [],
      "source": [
        "# Utilizamos el método interpolate() por defecto para hacer una interpolación lineal entre cada datapoint\n",
        "merged_df[['TEMP', 'HUM', 'PNM', 'DD', 'FF']] = merged_df[['TEMP', 'HUM', 'PNM', 'DD', 'FF']].interpolate()"
      ],
      "id": "011fbb05-28cd-4085-ad8c-67709137193e"
    },
    {
      "cell_type": "code",
      "execution_count": null,
      "metadata": {
        "colab": {
          "base_uri": "https://localhost:8080/"
        },
        "id": "Pka-BnB3rxeT",
        "outputId": "eb6d5995-a9dc-4ddd-bf12-4f41f7b0fe3b"
      },
      "outputs": [
        {
          "output_type": "execute_result",
          "data": {
            "text/plain": [
              "TEMP_INT                          float64\n",
              "Power_Factor_Total                float64\n",
              "Active_Energy_Delivered           float64\n",
              "FECHA_HORA                 datetime64[ns]\n",
              "FECHA                             float64\n",
              "HORA                              float64\n",
              "TEMP                              float64\n",
              "HUM                               float64\n",
              "PNM                                object\n",
              "DD                                float64\n",
              "FF                                float64\n",
              "NOMBRE                             object\n",
              "dtype: object"
            ]
          },
          "metadata": {},
          "execution_count": 34
        }
      ],
      "source": [
        "merged_df.dtypes"
      ],
      "id": "Pka-BnB3rxeT"
    },
    {
      "cell_type": "code",
      "execution_count": null,
      "metadata": {
        "colab": {
          "base_uri": "https://localhost:8080/"
        },
        "id": "wAy83DoEDEjR",
        "outputId": "b02cb739-0ce9-4ab7-c95c-8adf13cb0c4d"
      },
      "outputs": [
        {
          "output_type": "execute_result",
          "data": {
            "text/plain": [
              "TEMP_INT                        0\n",
              "Power_Factor_Total              0\n",
              "Active_Energy_Delivered         0\n",
              "FECHA_HORA                      0\n",
              "FECHA                      516871\n",
              "HORA                       516871\n",
              "TEMP                            0\n",
              "HUM                             0\n",
              "PNM                        516871\n",
              "DD                              0\n",
              "FF                              0\n",
              "NOMBRE                     516871\n",
              "dtype: int64"
            ]
          },
          "metadata": {},
          "execution_count": 35
        }
      ],
      "source": [
        "# Análisis exploratorio de datos nulos\n",
        "merged_df.isnull().sum()"
      ],
      "id": "wAy83DoEDEjR"
    },
    {
      "cell_type": "markdown",
      "source": [
        "Para uso futuro, bajamos los datos a un archivo"
      ],
      "metadata": {
        "id": "KB0Wyc5nlp7y"
      },
      "id": "KB0Wyc5nlp7y"
    },
    {
      "cell_type": "code",
      "source": [
        "# Guardamos el data frame en archivo\n",
        "\n",
        "merged_df.to_csv(\"dataframe_unido_interpolado_mentoria.csv\", index=None)\n",
        "from google.colab import files \n",
        "files.download('dataframe_unido_interpolado_mentoria.csv') "
      ],
      "metadata": {
        "colab": {
          "base_uri": "https://localhost:8080/",
          "height": 34
        },
        "id": "0t04eO6LlpkI",
        "outputId": "2a15ba23-58e9-46b4-da35-3eb0dc7df7cc"
      },
      "id": "0t04eO6LlpkI",
      "execution_count": null,
      "outputs": [
        {
          "output_type": "display_data",
          "data": {
            "text/plain": [
              "<IPython.core.display.Javascript object>"
            ],
            "application/javascript": [
              "\n",
              "    async function download(id, filename, size) {\n",
              "      if (!google.colab.kernel.accessAllowed) {\n",
              "        return;\n",
              "      }\n",
              "      const div = document.createElement('div');\n",
              "      const label = document.createElement('label');\n",
              "      label.textContent = `Downloading \"${filename}\": `;\n",
              "      div.appendChild(label);\n",
              "      const progress = document.createElement('progress');\n",
              "      progress.max = size;\n",
              "      div.appendChild(progress);\n",
              "      document.body.appendChild(div);\n",
              "\n",
              "      const buffers = [];\n",
              "      let downloaded = 0;\n",
              "\n",
              "      const channel = await google.colab.kernel.comms.open(id);\n",
              "      // Send a message to notify the kernel that we're ready.\n",
              "      channel.send({})\n",
              "\n",
              "      for await (const message of channel.messages) {\n",
              "        // Send a message to notify the kernel that we're ready.\n",
              "        channel.send({})\n",
              "        if (message.buffers) {\n",
              "          for (const buffer of message.buffers) {\n",
              "            buffers.push(buffer);\n",
              "            downloaded += buffer.byteLength;\n",
              "            progress.value = downloaded;\n",
              "          }\n",
              "        }\n",
              "      }\n",
              "      const blob = new Blob(buffers, {type: 'application/binary'});\n",
              "      const a = document.createElement('a');\n",
              "      a.href = window.URL.createObjectURL(blob);\n",
              "      a.download = filename;\n",
              "      div.appendChild(a);\n",
              "      a.click();\n",
              "      div.remove();\n",
              "    }\n",
              "  "
            ]
          },
          "metadata": {}
        },
        {
          "output_type": "display_data",
          "data": {
            "text/plain": [
              "<IPython.core.display.Javascript object>"
            ],
            "application/javascript": [
              "download(\"download_9d3b2bbc-675c-4e3c-bebe-b9c5e3496ee0\", \"dataframe_unido_interpolado_mentoria.csv\", 55596749)"
            ]
          },
          "metadata": {}
        }
      ]
    },
    {
      "cell_type": "markdown",
      "metadata": {
        "id": "gm7PxmR5bQJH"
      },
      "source": [
        "# Objetivo 1: Predecir la Energía a Consumir , según datos históricos, usando modelos SUPERVISADOS"
      ],
      "id": "gm7PxmR5bQJH"
    },
    {
      "cell_type": "code",
      "execution_count": null,
      "metadata": {
        "id": "S6Ib4p-IQQrf"
      },
      "outputs": [],
      "source": [
        "#Tomo solo 6 meses por una cuestion de memoria disponible en el entorno Google Colab\n",
        "mask = ((merged_df[\"FECHA_HORA\"] > '2021-08-01 00:00:00') & (merged_df[\"FECHA_HORA\"] < '2021-12-31 23:59:59'))\n",
        "data_df = merged_df[['FECHA_HORA','TEMP','Power_Factor_Total','Active_Energy_Delivered']].loc[mask].copy()"
      ],
      "id": "S6Ib4p-IQQrf"
    },
    {
      "cell_type": "code",
      "execution_count": null,
      "metadata": {
        "id": "W-sE3cCYznRx"
      },
      "outputs": [],
      "source": [
        "data_df.set_index('FECHA_HORA', inplace=True)"
      ],
      "id": "W-sE3cCYznRx"
    },
    {
      "cell_type": "code",
      "source": [
        "data_df.shape"
      ],
      "metadata": {
        "colab": {
          "base_uri": "https://localhost:8080/"
        },
        "id": "TXQh22OhiY6O",
        "outputId": "fe30bbcb-537f-4c05-b28f-5af3dbd50624"
      },
      "id": "TXQh22OhiY6O",
      "execution_count": null,
      "outputs": [
        {
          "output_type": "execute_result",
          "data": {
            "text/plain": [
              "(220319, 3)"
            ]
          },
          "metadata": {},
          "execution_count": 38
        }
      ]
    },
    {
      "cell_type": "code",
      "execution_count": null,
      "metadata": {
        "colab": {
          "base_uri": "https://localhost:8080/",
          "height": 238
        },
        "id": "meSnno8JpVxE",
        "outputId": "902f2e78-2a2e-46a4-e8f0-6139213c051a"
      },
      "outputs": [
        {
          "output_type": "execute_result",
          "data": {
            "text/plain": [
              "                          TEMP  Power_Factor_Total  Active_Energy_Delivered\n",
              "FECHA_HORA                                                                 \n",
              "2021-10-30 11:55:00  35.058333                0.76                239471.86\n",
              "2021-10-30 11:56:00  35.086667                0.76                239471.89\n",
              "2021-10-30 11:57:00  35.115000                0.84                239471.94\n",
              "2021-10-30 11:58:00  35.143333                0.77                239471.98\n",
              "2021-10-30 11:59:00  35.171667                0.77                239472.02"
            ],
            "text/html": [
              "\n",
              "  <div id=\"df-77edc706-f5e8-4e56-8eb8-182dca141ad6\">\n",
              "    <div class=\"colab-df-container\">\n",
              "      <div>\n",
              "<style scoped>\n",
              "    .dataframe tbody tr th:only-of-type {\n",
              "        vertical-align: middle;\n",
              "    }\n",
              "\n",
              "    .dataframe tbody tr th {\n",
              "        vertical-align: top;\n",
              "    }\n",
              "\n",
              "    .dataframe thead th {\n",
              "        text-align: right;\n",
              "    }\n",
              "</style>\n",
              "<table border=\"1\" class=\"dataframe\">\n",
              "  <thead>\n",
              "    <tr style=\"text-align: right;\">\n",
              "      <th></th>\n",
              "      <th>TEMP</th>\n",
              "      <th>Power_Factor_Total</th>\n",
              "      <th>Active_Energy_Delivered</th>\n",
              "    </tr>\n",
              "    <tr>\n",
              "      <th>FECHA_HORA</th>\n",
              "      <th></th>\n",
              "      <th></th>\n",
              "      <th></th>\n",
              "    </tr>\n",
              "  </thead>\n",
              "  <tbody>\n",
              "    <tr>\n",
              "      <th>2021-10-30 11:55:00</th>\n",
              "      <td>35.058333</td>\n",
              "      <td>0.76</td>\n",
              "      <td>239471.86</td>\n",
              "    </tr>\n",
              "    <tr>\n",
              "      <th>2021-10-30 11:56:00</th>\n",
              "      <td>35.086667</td>\n",
              "      <td>0.76</td>\n",
              "      <td>239471.89</td>\n",
              "    </tr>\n",
              "    <tr>\n",
              "      <th>2021-10-30 11:57:00</th>\n",
              "      <td>35.115000</td>\n",
              "      <td>0.84</td>\n",
              "      <td>239471.94</td>\n",
              "    </tr>\n",
              "    <tr>\n",
              "      <th>2021-10-30 11:58:00</th>\n",
              "      <td>35.143333</td>\n",
              "      <td>0.77</td>\n",
              "      <td>239471.98</td>\n",
              "    </tr>\n",
              "    <tr>\n",
              "      <th>2021-10-30 11:59:00</th>\n",
              "      <td>35.171667</td>\n",
              "      <td>0.77</td>\n",
              "      <td>239472.02</td>\n",
              "    </tr>\n",
              "  </tbody>\n",
              "</table>\n",
              "</div>\n",
              "      <button class=\"colab-df-convert\" onclick=\"convertToInteractive('df-77edc706-f5e8-4e56-8eb8-182dca141ad6')\"\n",
              "              title=\"Convert this dataframe to an interactive table.\"\n",
              "              style=\"display:none;\">\n",
              "        \n",
              "  <svg xmlns=\"http://www.w3.org/2000/svg\" height=\"24px\"viewBox=\"0 0 24 24\"\n",
              "       width=\"24px\">\n",
              "    <path d=\"M0 0h24v24H0V0z\" fill=\"none\"/>\n",
              "    <path d=\"M18.56 5.44l.94 2.06.94-2.06 2.06-.94-2.06-.94-.94-2.06-.94 2.06-2.06.94zm-11 1L8.5 8.5l.94-2.06 2.06-.94-2.06-.94L8.5 2.5l-.94 2.06-2.06.94zm10 10l.94 2.06.94-2.06 2.06-.94-2.06-.94-.94-2.06-.94 2.06-2.06.94z\"/><path d=\"M17.41 7.96l-1.37-1.37c-.4-.4-.92-.59-1.43-.59-.52 0-1.04.2-1.43.59L10.3 9.45l-7.72 7.72c-.78.78-.78 2.05 0 2.83L4 21.41c.39.39.9.59 1.41.59.51 0 1.02-.2 1.41-.59l7.78-7.78 2.81-2.81c.8-.78.8-2.07 0-2.86zM5.41 20L4 18.59l7.72-7.72 1.47 1.35L5.41 20z\"/>\n",
              "  </svg>\n",
              "      </button>\n",
              "      \n",
              "  <style>\n",
              "    .colab-df-container {\n",
              "      display:flex;\n",
              "      flex-wrap:wrap;\n",
              "      gap: 12px;\n",
              "    }\n",
              "\n",
              "    .colab-df-convert {\n",
              "      background-color: #E8F0FE;\n",
              "      border: none;\n",
              "      border-radius: 50%;\n",
              "      cursor: pointer;\n",
              "      display: none;\n",
              "      fill: #1967D2;\n",
              "      height: 32px;\n",
              "      padding: 0 0 0 0;\n",
              "      width: 32px;\n",
              "    }\n",
              "\n",
              "    .colab-df-convert:hover {\n",
              "      background-color: #E2EBFA;\n",
              "      box-shadow: 0px 1px 2px rgba(60, 64, 67, 0.3), 0px 1px 3px 1px rgba(60, 64, 67, 0.15);\n",
              "      fill: #174EA6;\n",
              "    }\n",
              "\n",
              "    [theme=dark] .colab-df-convert {\n",
              "      background-color: #3B4455;\n",
              "      fill: #D2E3FC;\n",
              "    }\n",
              "\n",
              "    [theme=dark] .colab-df-convert:hover {\n",
              "      background-color: #434B5C;\n",
              "      box-shadow: 0px 1px 3px 1px rgba(0, 0, 0, 0.15);\n",
              "      filter: drop-shadow(0px 1px 2px rgba(0, 0, 0, 0.3));\n",
              "      fill: #FFFFFF;\n",
              "    }\n",
              "  </style>\n",
              "\n",
              "      <script>\n",
              "        const buttonEl =\n",
              "          document.querySelector('#df-77edc706-f5e8-4e56-8eb8-182dca141ad6 button.colab-df-convert');\n",
              "        buttonEl.style.display =\n",
              "          google.colab.kernel.accessAllowed ? 'block' : 'none';\n",
              "\n",
              "        async function convertToInteractive(key) {\n",
              "          const element = document.querySelector('#df-77edc706-f5e8-4e56-8eb8-182dca141ad6');\n",
              "          const dataTable =\n",
              "            await google.colab.kernel.invokeFunction('convertToInteractive',\n",
              "                                                     [key], {});\n",
              "          if (!dataTable) return;\n",
              "\n",
              "          const docLinkHtml = 'Like what you see? Visit the ' +\n",
              "            '<a target=\"_blank\" href=https://colab.research.google.com/notebooks/data_table.ipynb>data table notebook</a>'\n",
              "            + ' to learn more about interactive tables.';\n",
              "          element.innerHTML = '';\n",
              "          dataTable['output_type'] = 'display_data';\n",
              "          await google.colab.output.renderOutput(dataTable, element);\n",
              "          const docLink = document.createElement('div');\n",
              "          docLink.innerHTML = docLinkHtml;\n",
              "          element.appendChild(docLink);\n",
              "        }\n",
              "      </script>\n",
              "    </div>\n",
              "  </div>\n",
              "  "
            ]
          },
          "metadata": {},
          "execution_count": 39
        }
      ],
      "source": [
        "data_df.loc['2021-10-30 11:55:00' : '2021-10-30 11:59:00'] "
      ],
      "id": "meSnno8JpVxE"
    },
    {
      "cell_type": "markdown",
      "metadata": {
        "id": "MOM1THjWhnC9"
      },
      "source": [
        "Generamos una SERIE a partir del DATAFRAME"
      ],
      "id": "MOM1THjWhnC9"
    },
    {
      "cell_type": "code",
      "execution_count": null,
      "metadata": {
        "id": "KmLVkvJ0eJgH"
      },
      "outputs": [],
      "source": [
        "series = TimeSeries.from_dataframe(data_df, value_cols=\"Active_Energy_Delivered\", freq=\"min\")\n",
        "#series = TimeSeries.from_dataframe(data_df, value_cols=\"Demanda\", freq=\"min\") \n"
      ],
      "id": "KmLVkvJ0eJgH"
    },
    {
      "cell_type": "markdown",
      "metadata": {
        "id": "4Qp4qnNia9Gw"
      },
      "source": [
        "¿La serie es ciclica?"
      ],
      "id": "4Qp4qnNia9Gw"
    },
    {
      "cell_type": "code",
      "execution_count": null,
      "metadata": {
        "colab": {
          "base_uri": "https://localhost:8080/"
        },
        "id": "pg0-rUvwa7Up",
        "outputId": "6a6fd201-587c-4528-eab6-3f546c3e813f"
      },
      "outputs": [
        {
          "output_type": "stream",
          "name": "stdout",
          "text": [
            "seasonal? False\n"
          ]
        }
      ],
      "source": [
        "for m in range(2, 25):\n",
        "    is_seasonal, mseas = check_seasonality(series, m=m, alpha=0.05)\n",
        "    if is_seasonal:\n",
        "        break\n",
        "\n",
        "print(\"seasonal? \" + str(is_seasonal))\n",
        "if is_seasonal:\n",
        "    print('There is seasonality of order {}.'.format(mseas))"
      ],
      "id": "pg0-rUvwa7Up"
    },
    {
      "cell_type": "markdown",
      "metadata": {
        "id": "LT_IdwjAsRbP"
      },
      "source": [
        "Separamos los conjuntos de Entrenamiento y Validacion"
      ],
      "id": "LT_IdwjAsRbP"
    },
    {
      "cell_type": "code",
      "execution_count": null,
      "metadata": {
        "colab": {
          "base_uri": "https://localhost:8080/"
        },
        "id": "9NCE8Zx8saiw",
        "outputId": "949700e9-47f9-44ec-8814-d6aa0480824b"
      },
      "outputs": [
        {
          "output_type": "stream",
          "name": "stdout",
          "text": [
            "Elementos de entrenamiento:  176254\n",
            "Elementos de validacion:  44065\n"
          ]
        }
      ],
      "source": [
        "train, val = series.split_before(0.8)\n",
        "#train, val = series.split_before(pd.Timestamp('20211115'))\n",
        "print('Elementos de entrenamiento: ',train.n_timesteps)\n",
        "print('Elementos de validacion: ',val.n_timesteps)"
      ],
      "id": "9NCE8Zx8saiw"
    },
    {
      "cell_type": "code",
      "execution_count": null,
      "metadata": {
        "colab": {
          "base_uri": "https://localhost:8080/",
          "height": 323
        },
        "id": "PaVwn2FEsmr4",
        "outputId": "465c3b98-0663-4a66-d741-455de04a83ef"
      },
      "outputs": [
        {
          "output_type": "execute_result",
          "data": {
            "text/plain": [
              "<matplotlib.legend.Legend at 0x7fd85bcd7950>"
            ]
          },
          "metadata": {},
          "execution_count": 43
        },
        {
          "output_type": "display_data",
          "data": {
            "text/plain": [
              "<Figure size 432x288 with 1 Axes>"
            ],
            "image/png": "[encoded data removed]"
          },
          "metadata": {}
        }
      ],
      "source": [
        "train.plot(label='entrenamiento')\n",
        "val.plot(label='validación', lw=3)\n",
        "\n",
        "plt.legend()"
      ],
      "id": "PaVwn2FEsmr4"
    },
    {
      "cell_type": "markdown",
      "metadata": {
        "id": "YnpP-lP9Dii7"
      },
      "source": [
        "1.1 Probamos varios modelos con parámetros por defecto para tener un primer enfoque de cual se puede aplicar mejor a nuestro anális. Se calcula para cada caso el M.A.P.E (Mean absolute percentage error)"
      ],
      "id": "YnpP-lP9Dii7"
    },
    {
      "cell_type": "code",
      "execution_count": null,
      "metadata": {
        "id": "NsUtABVRPIb8"
      },
      "outputs": [],
      "source": [
        "def evaluar_modelo(model):\n",
        "    model.fit(train)\n",
        "    prediccion = model.predict(len(val))\n",
        "    #print('Modelo {} obtuvo MAPE: {:.2f}%'.format(model, mape(val, prediccion)))\n",
        "    return prediccion"
      ],
      "id": "NsUtABVRPIb8"
    },
    {
      "cell_type": "code",
      "execution_count": null,
      "metadata": {
        "id": "h1h95QMPPKTv"
      },
      "outputs": [],
      "source": [
        "prediccion_LM         = evaluar_modelo(LinearRegressionModel(lags=1))\n",
        "#15:56 minutos"
      ],
      "id": "h1h95QMPPKTv"
    },
    {
      "cell_type": "code",
      "execution_count": null,
      "metadata": {
        "id": "QuI6Ud6SPWtK"
      },
      "outputs": [],
      "source": [
        "prediccion_exp_sm     = evaluar_modelo(ExponentialSmoothing(seasonal=SeasonalityMode.NONE, random_state=0))\n",
        "#00:09 segundos"
      ],
      "id": "QuI6Ud6SPWtK"
    },
    {
      "cell_type": "code",
      "execution_count": null,
      "metadata": {
        "id": "cZ6jt4X6PWc6"
      },
      "outputs": [],
      "source": [
        "#prediccion_prophet    = evaluar_modelo(Prophet())\n",
        "prediccion_arima      = evaluar_modelo(AutoARIMA())\n",
        "#15 minutos"
      ],
      "id": "cZ6jt4X6PWc6"
    },
    {
      "cell_type": "code",
      "execution_count": null,
      "metadata": {
        "id": "fRjIIf-3PWJt"
      },
      "outputs": [],
      "source": [
        "prediccion_theta      = evaluar_modelo(Theta())\n",
        "#05:00 minutos"
      ],
      "id": "fRjIIf-3PWJt"
    },
    {
      "cell_type": "code",
      "execution_count": null,
      "metadata": {
        "id": "kyDEOaL_DoWu",
        "colab": {
          "base_uri": "https://localhost:8080/",
          "height": 541
        },
        "outputId": "9562672f-ff73-40ae-9bb8-0343f57624ab"
      },
      "outputs": [
        {
          "output_type": "execute_result",
          "data": {
            "text/plain": [
              "<matplotlib.legend.Legend at 0x7fd85bbbf550>"
            ]
          },
          "metadata": {},
          "execution_count": 48
        },
        {
          "output_type": "display_data",
          "data": {
            "text/plain": [
              "<Figure size 864x576 with 1 Axes>"
            ],
            "image/png": "[encoded data removed]"
          },
          "metadata": {}
        }
      ],
      "source": [
        "fig = plt.figure(figsize=(12, 8))\n",
        "series.plot(label='real')\n",
        "\n",
        "prediccion_LM.plot(label='LinearRegressionModel, MAPE={:.2f}%'.format(mape(val, prediccion_LM)), lw=3)\n",
        "prediccion_exp_sm.plot(label='ExponentialSmoothing, MAPE={:.2f}%'.format(mape(val, prediccion_exp_sm)), lw=3)\n",
        "#prediccion_prophet.plot(label='Prophet, MAPE={:.2f}%'.format(mape(val, prediccion_prophet)), lw=3)\n",
        "#prediccion_arima.plot(label='AutoARIMA, MAPE={:.2f}%'.format(mape(val, prediccion_arima)), lw=3)\n",
        "prediccion_theta.plot(label='Theta, MAPE={:.2f}%'.format(mape(val, prediccion_theta)), lw=3)\n",
        "\n",
        "plt.legend()"
      ],
      "id": "kyDEOaL_DoWu"
    },
    {
      "cell_type": "markdown",
      "source": [
        "**Conclusión**: podemos observar que  de Regresión Lineal aplica perfecto a la estimación del consumo"
      ],
      "metadata": {
        "id": "464ADo2u9V2w"
      },
      "id": "464ADo2u9V2w"
    }
  ],
  "metadata": {
    "colab": {
      "collapsed_sections": [],
      "provenance": []
    },
    "kernelspec": {
      "display_name": "Python 3 (ipykernel)",
      "language": "python",
      "name": "python3"
    },
    "language_info": {
      "codemirror_mode": {
        "name": "ipython",
        "version": 3
      },
      "file_extension": ".py",
      "mimetype": "text/x-python",
      "name": "python",
      "nbconvert_exporter": "python",
      "pygments_lexer": "ipython3",
      "version": "3.10.2"
    }
  },
  "nbformat": 4,
  "nbformat_minor": 5
}